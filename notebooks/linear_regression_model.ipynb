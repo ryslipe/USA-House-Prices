{
 "cells": [
  {
   "cell_type": "markdown",
   "metadata": {},
   "source": [
    "### Linear Regression Model"
   ]
  },
  {
   "cell_type": "code",
   "execution_count": 1,
   "metadata": {},
   "outputs": [],
   "source": [
    "import pandas as pd\n",
    "import numpy as np"
   ]
  },
  {
   "cell_type": "code",
   "execution_count": 2,
   "metadata": {},
   "outputs": [
    {
     "data": {
      "application/vnd.microsoft.datawrangler.viewer.v0+json": {
       "columns": [
        {
         "name": "index",
         "rawType": "int64",
         "type": "integer"
        },
        {
         "name": "Unnamed: 0",
         "rawType": "int64",
         "type": "integer"
        },
        {
         "name": "price",
         "rawType": "float64",
         "type": "float"
        },
        {
         "name": "bedrooms",
         "rawType": "float64",
         "type": "float"
        },
        {
         "name": "bathrooms",
         "rawType": "float64",
         "type": "float"
        },
        {
         "name": "sqft_living",
         "rawType": "int64",
         "type": "integer"
        },
        {
         "name": "sqft_lot",
         "rawType": "int64",
         "type": "integer"
        },
        {
         "name": "floors",
         "rawType": "float64",
         "type": "float"
        },
        {
         "name": "waterfront",
         "rawType": "int64",
         "type": "integer"
        },
        {
         "name": "condition",
         "rawType": "int64",
         "type": "integer"
        },
        {
         "name": "yr_renovated",
         "rawType": "int64",
         "type": "integer"
        },
        {
         "name": "city",
         "rawType": "object",
         "type": "string"
        },
        {
         "name": "decade_built",
         "rawType": "int64",
         "type": "integer"
        }
       ],
       "conversionMethod": "pd.DataFrame",
       "ref": "fede8fc9-3b4b-4d74-b9d4-abb3f7d63f86",
       "rows": [
        [
         "0",
         "0",
         "376000.0",
         "3.0",
         "2.0",
         "1340",
         "1384",
         "3.0",
         "0",
         "3",
         "0",
         "Seattle",
         "2000"
        ],
        [
         "1",
         "1",
         "800000.0",
         "4.0",
         "3.25",
         "3540",
         "159430",
         "2.0",
         "0",
         "3",
         "0",
         "Carnation",
         "2000"
        ],
        [
         "2",
         "3",
         "324000.0",
         "3.0",
         "2.25",
         "998",
         "904",
         "2.0",
         "0",
         "3",
         "0",
         "Seattle",
         "2000"
        ],
        [
         "3",
         "4",
         "549900.0",
         "5.0",
         "2.75",
         "3060",
         "7015",
         "1.0",
         "0",
         "5",
         "0",
         "Seattle",
         "1970"
        ],
        [
         "4",
         "5",
         "320000.0",
         "3.0",
         "2.5",
         "2130",
         "6969",
         "2.0",
         "0",
         "3",
         "0",
         "Maple Valley",
         "2000"
        ]
       ],
       "shape": {
        "columns": 12,
        "rows": 5
       }
      },
      "text/html": [
       "<div>\n",
       "<style scoped>\n",
       "    .dataframe tbody tr th:only-of-type {\n",
       "        vertical-align: middle;\n",
       "    }\n",
       "\n",
       "    .dataframe tbody tr th {\n",
       "        vertical-align: top;\n",
       "    }\n",
       "\n",
       "    .dataframe thead th {\n",
       "        text-align: right;\n",
       "    }\n",
       "</style>\n",
       "<table border=\"1\" class=\"dataframe\">\n",
       "  <thead>\n",
       "    <tr style=\"text-align: right;\">\n",
       "      <th></th>\n",
       "      <th>Unnamed: 0</th>\n",
       "      <th>price</th>\n",
       "      <th>bedrooms</th>\n",
       "      <th>bathrooms</th>\n",
       "      <th>sqft_living</th>\n",
       "      <th>sqft_lot</th>\n",
       "      <th>floors</th>\n",
       "      <th>waterfront</th>\n",
       "      <th>condition</th>\n",
       "      <th>yr_renovated</th>\n",
       "      <th>city</th>\n",
       "      <th>decade_built</th>\n",
       "    </tr>\n",
       "  </thead>\n",
       "  <tbody>\n",
       "    <tr>\n",
       "      <th>0</th>\n",
       "      <td>0</td>\n",
       "      <td>376000.0</td>\n",
       "      <td>3.0</td>\n",
       "      <td>2.00</td>\n",
       "      <td>1340</td>\n",
       "      <td>1384</td>\n",
       "      <td>3.0</td>\n",
       "      <td>0</td>\n",
       "      <td>3</td>\n",
       "      <td>0</td>\n",
       "      <td>Seattle</td>\n",
       "      <td>2000</td>\n",
       "    </tr>\n",
       "    <tr>\n",
       "      <th>1</th>\n",
       "      <td>1</td>\n",
       "      <td>800000.0</td>\n",
       "      <td>4.0</td>\n",
       "      <td>3.25</td>\n",
       "      <td>3540</td>\n",
       "      <td>159430</td>\n",
       "      <td>2.0</td>\n",
       "      <td>0</td>\n",
       "      <td>3</td>\n",
       "      <td>0</td>\n",
       "      <td>Carnation</td>\n",
       "      <td>2000</td>\n",
       "    </tr>\n",
       "    <tr>\n",
       "      <th>2</th>\n",
       "      <td>3</td>\n",
       "      <td>324000.0</td>\n",
       "      <td>3.0</td>\n",
       "      <td>2.25</td>\n",
       "      <td>998</td>\n",
       "      <td>904</td>\n",
       "      <td>2.0</td>\n",
       "      <td>0</td>\n",
       "      <td>3</td>\n",
       "      <td>0</td>\n",
       "      <td>Seattle</td>\n",
       "      <td>2000</td>\n",
       "    </tr>\n",
       "    <tr>\n",
       "      <th>3</th>\n",
       "      <td>4</td>\n",
       "      <td>549900.0</td>\n",
       "      <td>5.0</td>\n",
       "      <td>2.75</td>\n",
       "      <td>3060</td>\n",
       "      <td>7015</td>\n",
       "      <td>1.0</td>\n",
       "      <td>0</td>\n",
       "      <td>5</td>\n",
       "      <td>0</td>\n",
       "      <td>Seattle</td>\n",
       "      <td>1970</td>\n",
       "    </tr>\n",
       "    <tr>\n",
       "      <th>4</th>\n",
       "      <td>5</td>\n",
       "      <td>320000.0</td>\n",
       "      <td>3.0</td>\n",
       "      <td>2.50</td>\n",
       "      <td>2130</td>\n",
       "      <td>6969</td>\n",
       "      <td>2.0</td>\n",
       "      <td>0</td>\n",
       "      <td>3</td>\n",
       "      <td>0</td>\n",
       "      <td>Maple Valley</td>\n",
       "      <td>2000</td>\n",
       "    </tr>\n",
       "  </tbody>\n",
       "</table>\n",
       "</div>"
      ],
      "text/plain": [
       "   Unnamed: 0     price  bedrooms  bathrooms  sqft_living  sqft_lot  floors  \\\n",
       "0           0  376000.0       3.0       2.00         1340      1384     3.0   \n",
       "1           1  800000.0       4.0       3.25         3540    159430     2.0   \n",
       "2           3  324000.0       3.0       2.25          998       904     2.0   \n",
       "3           4  549900.0       5.0       2.75         3060      7015     1.0   \n",
       "4           5  320000.0       3.0       2.50         2130      6969     2.0   \n",
       "\n",
       "   waterfront  condition  yr_renovated          city  decade_built  \n",
       "0           0          3             0       Seattle          2000  \n",
       "1           0          3             0     Carnation          2000  \n",
       "2           0          3             0       Seattle          2000  \n",
       "3           0          5             0       Seattle          1970  \n",
       "4           0          3             0  Maple Valley          2000  "
      ]
     },
     "execution_count": 2,
     "metadata": {},
     "output_type": "execute_result"
    }
   ],
   "source": [
    "# read in the data\n",
    "data = pd.read_csv('../data/data_new.csv')\n",
    "data.head()"
   ]
  },
  {
   "cell_type": "code",
   "execution_count": 3,
   "metadata": {},
   "outputs": [
    {
     "name": "stdout",
     "output_type": "stream",
     "text": [
      "<class 'pandas.core.frame.DataFrame'>\n",
      "RangeIndex: 3873 entries, 0 to 3872\n",
      "Data columns (total 12 columns):\n",
      " #   Column        Non-Null Count  Dtype  \n",
      "---  ------        --------------  -----  \n",
      " 0   Unnamed: 0    3873 non-null   int64  \n",
      " 1   price         3873 non-null   float64\n",
      " 2   bedrooms      3873 non-null   float64\n",
      " 3   bathrooms     3873 non-null   float64\n",
      " 4   sqft_living   3873 non-null   int64  \n",
      " 5   sqft_lot      3873 non-null   int64  \n",
      " 6   floors        3873 non-null   float64\n",
      " 7   waterfront    3873 non-null   int64  \n",
      " 8   condition     3873 non-null   int64  \n",
      " 9   yr_renovated  3873 non-null   int64  \n",
      " 10  city          3873 non-null   object \n",
      " 11  decade_built  3873 non-null   int64  \n",
      "dtypes: float64(4), int64(7), object(1)\n",
      "memory usage: 363.2+ KB\n"
     ]
    }
   ],
   "source": [
    "data.info()"
   ]
  },
  {
   "cell_type": "code",
   "execution_count": 4,
   "metadata": {},
   "outputs": [],
   "source": [
    "data.drop(columns = 'Unnamed: 0', axis = 1, inplace = True)"
   ]
  },
  {
   "cell_type": "code",
   "execution_count": 5,
   "metadata": {},
   "outputs": [
    {
     "name": "stdout",
     "output_type": "stream",
     "text": [
      "<class 'pandas.core.frame.DataFrame'>\n",
      "RangeIndex: 3873 entries, 0 to 3872\n",
      "Data columns (total 11 columns):\n",
      " #   Column        Non-Null Count  Dtype  \n",
      "---  ------        --------------  -----  \n",
      " 0   price         3873 non-null   float64\n",
      " 1   bedrooms      3873 non-null   float64\n",
      " 2   bathrooms     3873 non-null   float64\n",
      " 3   sqft_living   3873 non-null   int64  \n",
      " 4   sqft_lot      3873 non-null   int64  \n",
      " 5   floors        3873 non-null   float64\n",
      " 6   waterfront    3873 non-null   int64  \n",
      " 7   condition     3873 non-null   int64  \n",
      " 8   yr_renovated  3873 non-null   int64  \n",
      " 9   city          3873 non-null   object \n",
      " 10  decade_built  3873 non-null   int64  \n",
      "dtypes: float64(4), int64(6), object(1)\n",
      "memory usage: 333.0+ KB\n"
     ]
    }
   ],
   "source": [
    "data.info()"
   ]
  },
  {
   "cell_type": "markdown",
   "metadata": {},
   "source": [
    "#### Split the Data"
   ]
  },
  {
   "cell_type": "markdown",
   "metadata": {},
   "source": [
    "We have to use a stratified split because 33% of the data comes from Seattle. "
   ]
  },
  {
   "cell_type": "code",
   "execution_count": 7,
   "metadata": {},
   "outputs": [],
   "source": [
    "from sklearn.model_selection import train_test_split"
   ]
  },
  {
   "cell_type": "code",
   "execution_count": 13,
   "metadata": {},
   "outputs": [],
   "source": [
    "# drop city\n",
    "data.drop('city', axis = 1, inplace = True)"
   ]
  },
  {
   "cell_type": "code",
   "execution_count": null,
   "metadata": {},
   "outputs": [],
   "source": []
  }
 ],
 "metadata": {
  "kernelspec": {
   "display_name": ".venv",
   "language": "python",
   "name": "python3"
  },
  "language_info": {
   "codemirror_mode": {
    "name": "ipython",
    "version": 3
   },
   "file_extension": ".py",
   "mimetype": "text/x-python",
   "name": "python",
   "nbconvert_exporter": "python",
   "pygments_lexer": "ipython3",
   "version": "3.10.9"
  }
 },
 "nbformat": 4,
 "nbformat_minor": 2
}
