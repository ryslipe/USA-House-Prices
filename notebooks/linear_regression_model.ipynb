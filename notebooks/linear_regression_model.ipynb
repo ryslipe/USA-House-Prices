{
 "cells": [
  {
   "cell_type": "markdown",
   "metadata": {},
   "source": [
    "### Linear Regression Model"
   ]
  },
  {
   "cell_type": "code",
   "execution_count": 1,
   "metadata": {},
   "outputs": [],
   "source": [
    "import pandas as pd\n",
    "import numpy as np"
   ]
  },
  {
   "cell_type": "code",
   "execution_count": 2,
   "metadata": {},
   "outputs": [
    {
     "data": {
      "text/html": [
       "<div>\n",
       "<style scoped>\n",
       "    .dataframe tbody tr th:only-of-type {\n",
       "        vertical-align: middle;\n",
       "    }\n",
       "\n",
       "    .dataframe tbody tr th {\n",
       "        vertical-align: top;\n",
       "    }\n",
       "\n",
       "    .dataframe thead th {\n",
       "        text-align: right;\n",
       "    }\n",
       "</style>\n",
       "<table border=\"1\" class=\"dataframe\">\n",
       "  <thead>\n",
       "    <tr style=\"text-align: right;\">\n",
       "      <th></th>\n",
       "      <th>Unnamed: 0</th>\n",
       "      <th>price</th>\n",
       "      <th>bedrooms</th>\n",
       "      <th>bathrooms</th>\n",
       "      <th>sqft_living</th>\n",
       "      <th>sqft_lot</th>\n",
       "      <th>floors</th>\n",
       "      <th>waterfront</th>\n",
       "      <th>condition</th>\n",
       "      <th>yr_renovated</th>\n",
       "      <th>city</th>\n",
       "      <th>decade_built</th>\n",
       "    </tr>\n",
       "  </thead>\n",
       "  <tbody>\n",
       "    <tr>\n",
       "      <th>0</th>\n",
       "      <td>0</td>\n",
       "      <td>376000.0</td>\n",
       "      <td>3.0</td>\n",
       "      <td>2.00</td>\n",
       "      <td>1340</td>\n",
       "      <td>1384</td>\n",
       "      <td>3.0</td>\n",
       "      <td>0</td>\n",
       "      <td>3</td>\n",
       "      <td>0</td>\n",
       "      <td>Seattle</td>\n",
       "      <td>2000</td>\n",
       "    </tr>\n",
       "    <tr>\n",
       "      <th>1</th>\n",
       "      <td>1</td>\n",
       "      <td>800000.0</td>\n",
       "      <td>4.0</td>\n",
       "      <td>3.25</td>\n",
       "      <td>3540</td>\n",
       "      <td>159430</td>\n",
       "      <td>2.0</td>\n",
       "      <td>0</td>\n",
       "      <td>3</td>\n",
       "      <td>0</td>\n",
       "      <td>Carnation</td>\n",
       "      <td>2000</td>\n",
       "    </tr>\n",
       "    <tr>\n",
       "      <th>2</th>\n",
       "      <td>3</td>\n",
       "      <td>324000.0</td>\n",
       "      <td>3.0</td>\n",
       "      <td>2.25</td>\n",
       "      <td>998</td>\n",
       "      <td>904</td>\n",
       "      <td>2.0</td>\n",
       "      <td>0</td>\n",
       "      <td>3</td>\n",
       "      <td>0</td>\n",
       "      <td>Seattle</td>\n",
       "      <td>2000</td>\n",
       "    </tr>\n",
       "    <tr>\n",
       "      <th>3</th>\n",
       "      <td>4</td>\n",
       "      <td>549900.0</td>\n",
       "      <td>5.0</td>\n",
       "      <td>2.75</td>\n",
       "      <td>3060</td>\n",
       "      <td>7015</td>\n",
       "      <td>1.0</td>\n",
       "      <td>0</td>\n",
       "      <td>5</td>\n",
       "      <td>0</td>\n",
       "      <td>Seattle</td>\n",
       "      <td>1970</td>\n",
       "    </tr>\n",
       "    <tr>\n",
       "      <th>4</th>\n",
       "      <td>5</td>\n",
       "      <td>320000.0</td>\n",
       "      <td>3.0</td>\n",
       "      <td>2.50</td>\n",
       "      <td>2130</td>\n",
       "      <td>6969</td>\n",
       "      <td>2.0</td>\n",
       "      <td>0</td>\n",
       "      <td>3</td>\n",
       "      <td>0</td>\n",
       "      <td>Maple Valley</td>\n",
       "      <td>2000</td>\n",
       "    </tr>\n",
       "  </tbody>\n",
       "</table>\n",
       "</div>"
      ],
      "text/plain": [
       "   Unnamed: 0     price  bedrooms  bathrooms  sqft_living  sqft_lot  floors  \\\n",
       "0           0  376000.0       3.0       2.00         1340      1384     3.0   \n",
       "1           1  800000.0       4.0       3.25         3540    159430     2.0   \n",
       "2           3  324000.0       3.0       2.25          998       904     2.0   \n",
       "3           4  549900.0       5.0       2.75         3060      7015     1.0   \n",
       "4           5  320000.0       3.0       2.50         2130      6969     2.0   \n",
       "\n",
       "   waterfront  condition  yr_renovated          city  decade_built  \n",
       "0           0          3             0       Seattle          2000  \n",
       "1           0          3             0     Carnation          2000  \n",
       "2           0          3             0       Seattle          2000  \n",
       "3           0          5             0       Seattle          1970  \n",
       "4           0          3             0  Maple Valley          2000  "
      ]
     },
     "execution_count": 2,
     "metadata": {},
     "output_type": "execute_result"
    }
   ],
   "source": [
    "# read in the data\n",
    "data = pd.read_csv('../data/data_new.csv')\n",
    "data.head()"
   ]
  },
  {
   "cell_type": "code",
   "execution_count": 3,
   "metadata": {},
   "outputs": [
    {
     "name": "stdout",
     "output_type": "stream",
     "text": [
      "<class 'pandas.core.frame.DataFrame'>\n",
      "RangeIndex: 3873 entries, 0 to 3872\n",
      "Data columns (total 12 columns):\n",
      " #   Column        Non-Null Count  Dtype  \n",
      "---  ------        --------------  -----  \n",
      " 0   Unnamed: 0    3873 non-null   int64  \n",
      " 1   price         3873 non-null   float64\n",
      " 2   bedrooms      3873 non-null   float64\n",
      " 3   bathrooms     3873 non-null   float64\n",
      " 4   sqft_living   3873 non-null   int64  \n",
      " 5   sqft_lot      3873 non-null   int64  \n",
      " 6   floors        3873 non-null   float64\n",
      " 7   waterfront    3873 non-null   int64  \n",
      " 8   condition     3873 non-null   int64  \n",
      " 9   yr_renovated  3873 non-null   int64  \n",
      " 10  city          3873 non-null   object \n",
      " 11  decade_built  3873 non-null   int64  \n",
      "dtypes: float64(4), int64(7), object(1)\n",
      "memory usage: 363.2+ KB\n"
     ]
    }
   ],
   "source": [
    "data.info()"
   ]
  },
  {
   "cell_type": "code",
   "execution_count": 4,
   "metadata": {},
   "outputs": [],
   "source": [
    "data.drop(columns = 'Unnamed: 0', axis = 1, inplace = True)"
   ]
  },
  {
   "cell_type": "code",
   "execution_count": 5,
   "metadata": {},
   "outputs": [
    {
     "name": "stdout",
     "output_type": "stream",
     "text": [
      "<class 'pandas.core.frame.DataFrame'>\n",
      "RangeIndex: 3873 entries, 0 to 3872\n",
      "Data columns (total 11 columns):\n",
      " #   Column        Non-Null Count  Dtype  \n",
      "---  ------        --------------  -----  \n",
      " 0   price         3873 non-null   float64\n",
      " 1   bedrooms      3873 non-null   float64\n",
      " 2   bathrooms     3873 non-null   float64\n",
      " 3   sqft_living   3873 non-null   int64  \n",
      " 4   sqft_lot      3873 non-null   int64  \n",
      " 5   floors        3873 non-null   float64\n",
      " 6   waterfront    3873 non-null   int64  \n",
      " 7   condition     3873 non-null   int64  \n",
      " 8   yr_renovated  3873 non-null   int64  \n",
      " 9   city          3873 non-null   object \n",
      " 10  decade_built  3873 non-null   int64  \n",
      "dtypes: float64(4), int64(6), object(1)\n",
      "memory usage: 333.0+ KB\n"
     ]
    }
   ],
   "source": [
    "data.info()"
   ]
  },
  {
   "cell_type": "code",
   "execution_count": 6,
   "metadata": {},
   "outputs": [
    {
     "data": {
      "text/html": [
       "<div>\n",
       "<style scoped>\n",
       "    .dataframe tbody tr th:only-of-type {\n",
       "        vertical-align: middle;\n",
       "    }\n",
       "\n",
       "    .dataframe tbody tr th {\n",
       "        vertical-align: top;\n",
       "    }\n",
       "\n",
       "    .dataframe thead th {\n",
       "        text-align: right;\n",
       "    }\n",
       "</style>\n",
       "<table border=\"1\" class=\"dataframe\">\n",
       "  <thead>\n",
       "    <tr style=\"text-align: right;\">\n",
       "      <th></th>\n",
       "      <th>price</th>\n",
       "      <th>bedrooms</th>\n",
       "      <th>bathrooms</th>\n",
       "      <th>sqft_living</th>\n",
       "      <th>sqft_lot</th>\n",
       "    </tr>\n",
       "  </thead>\n",
       "  <tbody>\n",
       "    <tr>\n",
       "      <th>0</th>\n",
       "      <td>376000.0</td>\n",
       "      <td>3.0</td>\n",
       "      <td>2.00</td>\n",
       "      <td>1340</td>\n",
       "      <td>1384</td>\n",
       "    </tr>\n",
       "    <tr>\n",
       "      <th>1</th>\n",
       "      <td>800000.0</td>\n",
       "      <td>4.0</td>\n",
       "      <td>3.25</td>\n",
       "      <td>3540</td>\n",
       "      <td>159430</td>\n",
       "    </tr>\n",
       "    <tr>\n",
       "      <th>2</th>\n",
       "      <td>324000.0</td>\n",
       "      <td>3.0</td>\n",
       "      <td>2.25</td>\n",
       "      <td>998</td>\n",
       "      <td>904</td>\n",
       "    </tr>\n",
       "    <tr>\n",
       "      <th>3</th>\n",
       "      <td>549900.0</td>\n",
       "      <td>5.0</td>\n",
       "      <td>2.75</td>\n",
       "      <td>3060</td>\n",
       "      <td>7015</td>\n",
       "    </tr>\n",
       "    <tr>\n",
       "      <th>4</th>\n",
       "      <td>320000.0</td>\n",
       "      <td>3.0</td>\n",
       "      <td>2.50</td>\n",
       "      <td>2130</td>\n",
       "      <td>6969</td>\n",
       "    </tr>\n",
       "  </tbody>\n",
       "</table>\n",
       "</div>"
      ],
      "text/plain": [
       "      price  bedrooms  bathrooms  sqft_living  sqft_lot\n",
       "0  376000.0       3.0       2.00         1340      1384\n",
       "1  800000.0       4.0       3.25         3540    159430\n",
       "2  324000.0       3.0       2.25          998       904\n",
       "3  549900.0       5.0       2.75         3060      7015\n",
       "4  320000.0       3.0       2.50         2130      6969"
      ]
     },
     "execution_count": 6,
     "metadata": {},
     "output_type": "execute_result"
    }
   ],
   "source": [
    "data_num = data[['price', 'bedrooms', 'bathrooms', 'sqft_living', 'sqft_lot']]\n",
    "data_num.head()"
   ]
  },
  {
   "cell_type": "code",
   "execution_count": 7,
   "metadata": {},
   "outputs": [
    {
     "name": "stdout",
     "output_type": "stream",
     "text": [
      "<class 'pandas.core.frame.DataFrame'>\n",
      "RangeIndex: 3873 entries, 0 to 3872\n",
      "Data columns (total 5 columns):\n",
      " #   Column       Non-Null Count  Dtype  \n",
      "---  ------       --------------  -----  \n",
      " 0   price        3873 non-null   float64\n",
      " 1   bedrooms     3873 non-null   float64\n",
      " 2   bathrooms    3873 non-null   float64\n",
      " 3   sqft_living  3873 non-null   int64  \n",
      " 4   sqft_lot     3873 non-null   int64  \n",
      "dtypes: float64(3), int64(2)\n",
      "memory usage: 151.4 KB\n"
     ]
    }
   ],
   "source": [
    "data_num.info()"
   ]
  },
  {
   "cell_type": "markdown",
   "metadata": {},
   "source": [
    "#### Fitting a Model"
   ]
  },
  {
   "cell_type": "code",
   "execution_count": 8,
   "metadata": {},
   "outputs": [],
   "source": [
    "from sklearn.model_selection import train_test_split\n",
    "\n",
    "X = data_num.drop('price', axis = 1)\n",
    "y = data_num['price']\n",
    "\n",
    "X_train, X_test, y_train, y_test = train_test_split(X, y, test_size=0.2, random_state=42)"
   ]
  },
  {
   "cell_type": "code",
   "execution_count": 9,
   "metadata": {},
   "outputs": [],
   "source": [
    "import statsmodels.api as sm"
   ]
  },
  {
   "cell_type": "markdown",
   "metadata": {},
   "source": [
    "First, we are going to fit the model using statsmodels since they have a nice summary. "
   ]
  },
  {
   "cell_type": "code",
   "execution_count": 11,
   "metadata": {},
   "outputs": [
    {
     "name": "stdout",
     "output_type": "stream",
     "text": [
      "                            OLS Regression Results                            \n",
      "==============================================================================\n",
      "Dep. Variable:                  price   R-squared:                       0.416\n",
      "Model:                            OLS   Adj. R-squared:                  0.415\n",
      "Method:                 Least Squares   F-statistic:                     549.9\n",
      "Date:                Thu, 13 Feb 2025   Prob (F-statistic):               0.00\n",
      "Time:                        12:40:25   Log-Likelihood:                -41634.\n",
      "No. Observations:                3098   AIC:                         8.328e+04\n",
      "Df Residuals:                    3093   BIC:                         8.331e+04\n",
      "Df Model:                           4                                         \n",
      "Covariance Type:            nonrobust                                         \n",
      "===============================================================================\n",
      "                  coef    std err          t      P>|t|      [0.025      0.975]\n",
      "-------------------------------------------------------------------------------\n",
      "const        1.846e+05   1.22e+04     15.079      0.000    1.61e+05    2.09e+05\n",
      "bedrooms    -2.913e+04   4310.485     -6.757      0.000   -3.76e+04   -2.07e+04\n",
      "bathrooms     1.97e+04   6090.895      3.234      0.001    7754.111    3.16e+04\n",
      "sqft_living   179.3890      5.911     30.346      0.000     167.798     190.980\n",
      "sqft_lot       -0.2881      0.087     -3.308      0.001      -0.459      -0.117\n",
      "==============================================================================\n",
      "Omnibus:                      130.158   Durbin-Watson:                   2.048\n",
      "Prob(Omnibus):                  0.000   Jarque-Bera (JB):              150.803\n",
      "Skew:                           0.485   Prob(JB):                     1.79e-33\n",
      "Kurtosis:                       3.476   Cond. No.                     1.61e+05\n",
      "==============================================================================\n",
      "\n",
      "Notes:\n",
      "[1] Standard Errors assume that the covariance matrix of the errors is correctly specified.\n",
      "[2] The condition number is large, 1.61e+05. This might indicate that there are\n",
      "strong multicollinearity or other numerical problems.\n"
     ]
    }
   ],
   "source": [
    "# first, add a constant that will be the intercept term\n",
    "X_train_sm = sm.add_constant(X_train)\n",
    "\n",
    "# fit the model\n",
    "model = sm.OLS(y_train, X_train_sm).fit()\n",
    "\n",
    "# print summary\n",
    "print(model.summary())"
   ]
  },
  {
   "cell_type": "markdown",
   "metadata": {},
   "source": [
    "### Notes on Summary"
   ]
  },
  {
   "cell_type": "markdown",
   "metadata": {},
   "source": [
    "There are a few things we see here. The predictors account for roughly 42% of the variablility since that is the R^2 value. The constant value of 1.846e+05 means each home starts out at $184600. Surprisingly, each additional bedroom has a neddagive association and drops the price $29130. Bathrooms ad $19,700 and each additional square foot add $179 so every 100 square feet adds $17,900. None of the confidence intervals contain a 0 so all of the predictors are statistically significant."
   ]
  },
  {
   "cell_type": "code",
   "execution_count": null,
   "metadata": {},
   "outputs": [],
   "source": []
  }
 ],
 "metadata": {
  "kernelspec": {
   "display_name": ".venv",
   "language": "python",
   "name": "python3"
  },
  "language_info": {
   "codemirror_mode": {
    "name": "ipython",
    "version": 3
   },
   "file_extension": ".py",
   "mimetype": "text/x-python",
   "name": "python",
   "nbconvert_exporter": "python",
   "pygments_lexer": "ipython3",
   "version": "3.10.9"
  }
 },
 "nbformat": 4,
 "nbformat_minor": 2
}
