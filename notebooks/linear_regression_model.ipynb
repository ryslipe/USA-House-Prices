{
 "cells": [
  {
   "cell_type": "markdown",
   "metadata": {},
   "source": [
    "### Linear Regression Model"
   ]
  },
  {
   "cell_type": "code",
   "execution_count": 1,
   "metadata": {},
   "outputs": [],
   "source": [
    "import pandas as pd\n",
    "import numpy as np"
   ]
  },
  {
   "cell_type": "code",
   "execution_count": 2,
   "metadata": {},
   "outputs": [
    {
     "data": {
      "text/html": [
       "<div>\n",
       "<style scoped>\n",
       "    .dataframe tbody tr th:only-of-type {\n",
       "        vertical-align: middle;\n",
       "    }\n",
       "\n",
       "    .dataframe tbody tr th {\n",
       "        vertical-align: top;\n",
       "    }\n",
       "\n",
       "    .dataframe thead th {\n",
       "        text-align: right;\n",
       "    }\n",
       "</style>\n",
       "<table border=\"1\" class=\"dataframe\">\n",
       "  <thead>\n",
       "    <tr style=\"text-align: right;\">\n",
       "      <th></th>\n",
       "      <th>Unnamed: 0</th>\n",
       "      <th>price</th>\n",
       "      <th>bedrooms</th>\n",
       "      <th>bathrooms</th>\n",
       "      <th>sqft_living</th>\n",
       "      <th>sqft_lot</th>\n",
       "      <th>floors</th>\n",
       "      <th>waterfront</th>\n",
       "      <th>condition</th>\n",
       "      <th>yr_renovated</th>\n",
       "      <th>city</th>\n",
       "      <th>decade_built</th>\n",
       "    </tr>\n",
       "  </thead>\n",
       "  <tbody>\n",
       "    <tr>\n",
       "      <th>0</th>\n",
       "      <td>0</td>\n",
       "      <td>376000.0</td>\n",
       "      <td>3.0</td>\n",
       "      <td>2.00</td>\n",
       "      <td>1340</td>\n",
       "      <td>1384</td>\n",
       "      <td>3.0</td>\n",
       "      <td>0</td>\n",
       "      <td>3</td>\n",
       "      <td>0</td>\n",
       "      <td>Seattle</td>\n",
       "      <td>2000</td>\n",
       "    </tr>\n",
       "    <tr>\n",
       "      <th>1</th>\n",
       "      <td>1</td>\n",
       "      <td>800000.0</td>\n",
       "      <td>4.0</td>\n",
       "      <td>3.25</td>\n",
       "      <td>3540</td>\n",
       "      <td>159430</td>\n",
       "      <td>2.0</td>\n",
       "      <td>0</td>\n",
       "      <td>3</td>\n",
       "      <td>0</td>\n",
       "      <td>Carnation</td>\n",
       "      <td>2000</td>\n",
       "    </tr>\n",
       "    <tr>\n",
       "      <th>2</th>\n",
       "      <td>3</td>\n",
       "      <td>324000.0</td>\n",
       "      <td>3.0</td>\n",
       "      <td>2.25</td>\n",
       "      <td>998</td>\n",
       "      <td>904</td>\n",
       "      <td>2.0</td>\n",
       "      <td>0</td>\n",
       "      <td>3</td>\n",
       "      <td>0</td>\n",
       "      <td>Seattle</td>\n",
       "      <td>2000</td>\n",
       "    </tr>\n",
       "    <tr>\n",
       "      <th>3</th>\n",
       "      <td>4</td>\n",
       "      <td>549900.0</td>\n",
       "      <td>5.0</td>\n",
       "      <td>2.75</td>\n",
       "      <td>3060</td>\n",
       "      <td>7015</td>\n",
       "      <td>1.0</td>\n",
       "      <td>0</td>\n",
       "      <td>5</td>\n",
       "      <td>0</td>\n",
       "      <td>Seattle</td>\n",
       "      <td>1970</td>\n",
       "    </tr>\n",
       "    <tr>\n",
       "      <th>4</th>\n",
       "      <td>5</td>\n",
       "      <td>320000.0</td>\n",
       "      <td>3.0</td>\n",
       "      <td>2.50</td>\n",
       "      <td>2130</td>\n",
       "      <td>6969</td>\n",
       "      <td>2.0</td>\n",
       "      <td>0</td>\n",
       "      <td>3</td>\n",
       "      <td>0</td>\n",
       "      <td>Maple Valley</td>\n",
       "      <td>2000</td>\n",
       "    </tr>\n",
       "  </tbody>\n",
       "</table>\n",
       "</div>"
      ],
      "text/plain": [
       "   Unnamed: 0     price  bedrooms  bathrooms  sqft_living  sqft_lot  floors  \\\n",
       "0           0  376000.0       3.0       2.00         1340      1384     3.0   \n",
       "1           1  800000.0       4.0       3.25         3540    159430     2.0   \n",
       "2           3  324000.0       3.0       2.25          998       904     2.0   \n",
       "3           4  549900.0       5.0       2.75         3060      7015     1.0   \n",
       "4           5  320000.0       3.0       2.50         2130      6969     2.0   \n",
       "\n",
       "   waterfront  condition  yr_renovated          city  decade_built  \n",
       "0           0          3             0       Seattle          2000  \n",
       "1           0          3             0     Carnation          2000  \n",
       "2           0          3             0       Seattle          2000  \n",
       "3           0          5             0       Seattle          1970  \n",
       "4           0          3             0  Maple Valley          2000  "
      ]
     },
     "execution_count": 2,
     "metadata": {},
     "output_type": "execute_result"
    }
   ],
   "source": [
    "# read in the data\n",
    "data = pd.read_csv('../data/data_new.csv')\n",
    "data.head()"
   ]
  },
  {
   "cell_type": "code",
   "execution_count": 3,
   "metadata": {},
   "outputs": [
    {
     "name": "stdout",
     "output_type": "stream",
     "text": [
      "<class 'pandas.core.frame.DataFrame'>\n",
      "RangeIndex: 3873 entries, 0 to 3872\n",
      "Data columns (total 12 columns):\n",
      " #   Column        Non-Null Count  Dtype  \n",
      "---  ------        --------------  -----  \n",
      " 0   Unnamed: 0    3873 non-null   int64  \n",
      " 1   price         3873 non-null   float64\n",
      " 2   bedrooms      3873 non-null   float64\n",
      " 3   bathrooms     3873 non-null   float64\n",
      " 4   sqft_living   3873 non-null   int64  \n",
      " 5   sqft_lot      3873 non-null   int64  \n",
      " 6   floors        3873 non-null   float64\n",
      " 7   waterfront    3873 non-null   int64  \n",
      " 8   condition     3873 non-null   int64  \n",
      " 9   yr_renovated  3873 non-null   int64  \n",
      " 10  city          3873 non-null   object \n",
      " 11  decade_built  3873 non-null   int64  \n",
      "dtypes: float64(4), int64(7), object(1)\n",
      "memory usage: 363.2+ KB\n"
     ]
    }
   ],
   "source": [
    "data.info()"
   ]
  },
  {
   "cell_type": "code",
   "execution_count": 4,
   "metadata": {},
   "outputs": [],
   "source": [
    "data.drop(columns = 'Unnamed: 0', axis = 1, inplace = True)"
   ]
  },
  {
   "cell_type": "code",
   "execution_count": 5,
   "metadata": {},
   "outputs": [
    {
     "name": "stdout",
     "output_type": "stream",
     "text": [
      "<class 'pandas.core.frame.DataFrame'>\n",
      "RangeIndex: 3873 entries, 0 to 3872\n",
      "Data columns (total 11 columns):\n",
      " #   Column        Non-Null Count  Dtype  \n",
      "---  ------        --------------  -----  \n",
      " 0   price         3873 non-null   float64\n",
      " 1   bedrooms      3873 non-null   float64\n",
      " 2   bathrooms     3873 non-null   float64\n",
      " 3   sqft_living   3873 non-null   int64  \n",
      " 4   sqft_lot      3873 non-null   int64  \n",
      " 5   floors        3873 non-null   float64\n",
      " 6   waterfront    3873 non-null   int64  \n",
      " 7   condition     3873 non-null   int64  \n",
      " 8   yr_renovated  3873 non-null   int64  \n",
      " 9   city          3873 non-null   object \n",
      " 10  decade_built  3873 non-null   int64  \n",
      "dtypes: float64(4), int64(6), object(1)\n",
      "memory usage: 333.0+ KB\n"
     ]
    }
   ],
   "source": [
    "data.info()"
   ]
  },
  {
   "cell_type": "code",
   "execution_count": 6,
   "metadata": {},
   "outputs": [
    {
     "data": {
      "text/html": [
       "<div>\n",
       "<style scoped>\n",
       "    .dataframe tbody tr th:only-of-type {\n",
       "        vertical-align: middle;\n",
       "    }\n",
       "\n",
       "    .dataframe tbody tr th {\n",
       "        vertical-align: top;\n",
       "    }\n",
       "\n",
       "    .dataframe thead th {\n",
       "        text-align: right;\n",
       "    }\n",
       "</style>\n",
       "<table border=\"1\" class=\"dataframe\">\n",
       "  <thead>\n",
       "    <tr style=\"text-align: right;\">\n",
       "      <th></th>\n",
       "      <th>price</th>\n",
       "      <th>bedrooms</th>\n",
       "      <th>bathrooms</th>\n",
       "      <th>sqft_living</th>\n",
       "      <th>sqft_lot</th>\n",
       "    </tr>\n",
       "  </thead>\n",
       "  <tbody>\n",
       "    <tr>\n",
       "      <th>0</th>\n",
       "      <td>376000.0</td>\n",
       "      <td>3.0</td>\n",
       "      <td>2.00</td>\n",
       "      <td>1340</td>\n",
       "      <td>1384</td>\n",
       "    </tr>\n",
       "    <tr>\n",
       "      <th>1</th>\n",
       "      <td>800000.0</td>\n",
       "      <td>4.0</td>\n",
       "      <td>3.25</td>\n",
       "      <td>3540</td>\n",
       "      <td>159430</td>\n",
       "    </tr>\n",
       "    <tr>\n",
       "      <th>2</th>\n",
       "      <td>324000.0</td>\n",
       "      <td>3.0</td>\n",
       "      <td>2.25</td>\n",
       "      <td>998</td>\n",
       "      <td>904</td>\n",
       "    </tr>\n",
       "    <tr>\n",
       "      <th>3</th>\n",
       "      <td>549900.0</td>\n",
       "      <td>5.0</td>\n",
       "      <td>2.75</td>\n",
       "      <td>3060</td>\n",
       "      <td>7015</td>\n",
       "    </tr>\n",
       "    <tr>\n",
       "      <th>4</th>\n",
       "      <td>320000.0</td>\n",
       "      <td>3.0</td>\n",
       "      <td>2.50</td>\n",
       "      <td>2130</td>\n",
       "      <td>6969</td>\n",
       "    </tr>\n",
       "  </tbody>\n",
       "</table>\n",
       "</div>"
      ],
      "text/plain": [
       "      price  bedrooms  bathrooms  sqft_living  sqft_lot\n",
       "0  376000.0       3.0       2.00         1340      1384\n",
       "1  800000.0       4.0       3.25         3540    159430\n",
       "2  324000.0       3.0       2.25          998       904\n",
       "3  549900.0       5.0       2.75         3060      7015\n",
       "4  320000.0       3.0       2.50         2130      6969"
      ]
     },
     "execution_count": 6,
     "metadata": {},
     "output_type": "execute_result"
    }
   ],
   "source": [
    "data_num = data[['price', 'bedrooms', 'bathrooms', 'sqft_living', 'sqft_lot']]\n",
    "data_num.head()"
   ]
  },
  {
   "cell_type": "code",
   "execution_count": 7,
   "metadata": {},
   "outputs": [
    {
     "name": "stdout",
     "output_type": "stream",
     "text": [
      "<class 'pandas.core.frame.DataFrame'>\n",
      "RangeIndex: 3873 entries, 0 to 3872\n",
      "Data columns (total 5 columns):\n",
      " #   Column       Non-Null Count  Dtype  \n",
      "---  ------       --------------  -----  \n",
      " 0   price        3873 non-null   float64\n",
      " 1   bedrooms     3873 non-null   float64\n",
      " 2   bathrooms    3873 non-null   float64\n",
      " 3   sqft_living  3873 non-null   int64  \n",
      " 4   sqft_lot     3873 non-null   int64  \n",
      "dtypes: float64(3), int64(2)\n",
      "memory usage: 151.4 KB\n"
     ]
    }
   ],
   "source": [
    "data_num.info()"
   ]
  },
  {
   "cell_type": "markdown",
   "metadata": {},
   "source": [
    "#### Fitting a Model"
   ]
  },
  {
   "cell_type": "code",
   "execution_count": 8,
   "metadata": {},
   "outputs": [],
   "source": [
    "from sklearn.model_selection import train_test_split\n",
    "\n",
    "X = data_num.drop('price', axis = 1)\n",
    "y = data_num['price']\n",
    "\n",
    "X_train, X_test, y_train, y_test = train_test_split(X, y, test_size=0.2, random_state=42)"
   ]
  },
  {
   "cell_type": "code",
   "execution_count": 9,
   "metadata": {},
   "outputs": [],
   "source": [
    "import statsmodels.api as sm"
   ]
  },
  {
   "cell_type": "markdown",
   "metadata": {},
   "source": [
    "First, we are going to fit the model using statsmodels since they have a nice summary. "
   ]
  },
  {
   "cell_type": "code",
   "execution_count": 11,
   "metadata": {},
   "outputs": [
    {
     "name": "stdout",
     "output_type": "stream",
     "text": [
      "                            OLS Regression Results                            \n",
      "==============================================================================\n",
      "Dep. Variable:                  price   R-squared:                       0.416\n",
      "Model:                            OLS   Adj. R-squared:                  0.415\n",
      "Method:                 Least Squares   F-statistic:                     549.9\n",
      "Date:                Thu, 13 Feb 2025   Prob (F-statistic):               0.00\n",
      "Time:                        12:40:25   Log-Likelihood:                -41634.\n",
      "No. Observations:                3098   AIC:                         8.328e+04\n",
      "Df Residuals:                    3093   BIC:                         8.331e+04\n",
      "Df Model:                           4                                         \n",
      "Covariance Type:            nonrobust                                         \n",
      "===============================================================================\n",
      "                  coef    std err          t      P>|t|      [0.025      0.975]\n",
      "-------------------------------------------------------------------------------\n",
      "const        1.846e+05   1.22e+04     15.079      0.000    1.61e+05    2.09e+05\n",
      "bedrooms    -2.913e+04   4310.485     -6.757      0.000   -3.76e+04   -2.07e+04\n",
      "bathrooms     1.97e+04   6090.895      3.234      0.001    7754.111    3.16e+04\n",
      "sqft_living   179.3890      5.911     30.346      0.000     167.798     190.980\n",
      "sqft_lot       -0.2881      0.087     -3.308      0.001      -0.459      -0.117\n",
      "==============================================================================\n",
      "Omnibus:                      130.158   Durbin-Watson:                   2.048\n",
      "Prob(Omnibus):                  0.000   Jarque-Bera (JB):              150.803\n",
      "Skew:                           0.485   Prob(JB):                     1.79e-33\n",
      "Kurtosis:                       3.476   Cond. No.                     1.61e+05\n",
      "==============================================================================\n",
      "\n",
      "Notes:\n",
      "[1] Standard Errors assume that the covariance matrix of the errors is correctly specified.\n",
      "[2] The condition number is large, 1.61e+05. This might indicate that there are\n",
      "strong multicollinearity or other numerical problems.\n"
     ]
    }
   ],
   "source": [
    "# first, add a constant that will be the intercept term\n",
    "X_train_sm = sm.add_constant(X_train)\n",
    "\n",
    "# fit the model\n",
    "model = sm.OLS(y_train, X_train_sm).fit()\n",
    "\n",
    "# print summary\n",
    "print(model.summary())"
   ]
  },
  {
   "cell_type": "markdown",
   "metadata": {},
   "source": [
    "### Notes on Summary"
   ]
  },
  {
   "cell_type": "markdown",
   "metadata": {},
   "source": [
    "There are a few things we see here. The predictors account for roughly 42% of the variablility since that is the R^2 value. The constant value of 1.846e+05 means each home starts out at $184600. Surprisingly, each additional bedroom has a neddagive association and drops the price $29130. Bathrooms ad $19,700 and each additional square foot add $179 so every 100 square feet adds $17,900. None of the confidence intervals contain a 0 so all of the predictors are statistically significant."
   ]
  },
  {
   "cell_type": "markdown",
   "metadata": {},
   "source": [
    "#### Checking the Assumptions"
   ]
  },
  {
   "cell_type": "code",
   "execution_count": null,
   "metadata": {},
   "outputs": [],
   "source": [
    "X_test_sm = sm.add_constant(X_test)"
   ]
  },
  {
   "cell_type": "code",
   "execution_count": 21,
   "metadata": {},
   "outputs": [],
   "source": [
    "# function to calculate residuals\n",
    "def residuals(model, features, target):\n",
    "    '''Get residuals from given model.'''\n",
    "    predictions = model.predict(features)\n",
    "\n",
    "    # dataframe of actual and predicted\n",
    "    results = pd.DataFrame({'Actual': target, 'Predictions': predictions})\n",
    "\n",
    "    # add residuals\n",
    "    results['residuals'] = results['Actual'] - results['Predictions']\n",
    "\n",
    "    return results"
   ]
  },
  {
   "cell_type": "code",
   "execution_count": 22,
   "metadata": {},
   "outputs": [
    {
     "data": {
      "text/plain": [
       "691      482000.0\n",
       "2183     540000.0\n",
       "416      588000.0\n",
       "1226     590000.0\n",
       "217     1058000.0\n",
       "          ...    \n",
       "1130     289950.0\n",
       "1294     930000.0\n",
       "860      415000.0\n",
       "3507     232500.0\n",
       "3174     255000.0\n",
       "Name: price, Length: 3098, dtype: float64"
      ]
     },
     "execution_count": 22,
     "metadata": {},
     "output_type": "execute_result"
    }
   ],
   "source": [
    "y_train"
   ]
  },
  {
   "cell_type": "code",
   "execution_count": 23,
   "metadata": {},
   "outputs": [
    {
     "data": {
      "application/vnd.microsoft.datawrangler.viewer.v0+json": {
       "columns": [
        {
         "name": "index",
         "rawType": "int64",
         "type": "integer"
        },
        {
         "name": "Actual",
         "rawType": "float64",
         "type": "float"
        },
        {
         "name": "Predictions",
         "rawType": "float64",
         "type": "float"
        },
        {
         "name": "residuals",
         "rawType": "float64",
         "type": "float"
        }
       ],
       "conversionMethod": "pd.DataFrame",
       "ref": "c79cc521-683c-4180-b092-f3c1d6d02915",
       "rows": [
        [
         "691",
         "482000.0",
         "480542.4677247079",
         "1457.532275292091"
        ],
        [
         "2183",
         "540000.0",
         "482709.15129225404",
         "57290.84870774596"
        ],
        [
         "416",
         "588000.0",
         "503565.7543691114",
         "84434.24563088862"
        ],
        [
         "1226",
         "590000.0",
         "558577.7834825556",
         "31422.21651744435"
        ],
        [
         "217",
         "1058000.0",
         "515065.1875737903",
         "542934.8124262097"
        ],
        [
         "1872",
         "440000.0",
         "429089.18826991104",
         "10910.811730088957"
        ],
        [
         "1846",
         "485000.0",
         "550307.0677461451",
         "-65307.06774614507"
        ],
        [
         "915",
         "799000.0",
         "529625.2653716512",
         "269374.73462834884"
        ],
        [
         "802",
         "496700.0",
         "456918.90341864974",
         "39781.096581350255"
        ],
        [
         "927",
         "537000.0",
         "420778.37795143586",
         "116221.62204856414"
        ],
        [
         "811",
         "355300.0",
         "434923.16152593546",
         "-79623.16152593546"
        ],
        [
         "3468",
         "600000.0",
         "517670.85523398884",
         "82329.14476601116"
        ],
        [
         "727",
         "556000.0",
         "772178.1853189135",
         "-216178.18531891354"
        ],
        [
         "1293",
         "600000.0",
         "464820.5610117468",
         "135179.43898825318"
        ],
        [
         "3541",
         "679000.0",
         "497671.8500569475",
         "181328.1499430525"
        ],
        [
         "1474",
         "275000.0",
         "405335.8685779595",
         "-130335.86857795948"
        ],
        [
         "449",
         "298450.0",
         "471950.64417878556",
         "-173500.64417878556"
        ],
        [
         "2023",
         "518000.0",
         "427297.50465066213",
         "90702.49534933787"
        ],
        [
         "376",
         "732000.0",
         "468549.71313705796",
         "263450.28686294204"
        ],
        [
         "1288",
         "718000.0",
         "300245.055125783",
         "417754.944874217"
        ],
        [
         "3867",
         "210614.285714",
         "433183.1505258997",
         "-222568.86481189972"
        ],
        [
         "2620",
         "464500.0",
         "334957.2952334801",
         "129542.70476651989"
        ],
        [
         "433",
         "611000.0",
         "557408.380391426",
         "53591.619608573965"
        ],
        [
         "1263",
         "875000.0",
         "776156.3326399847",
         "98843.66736001533"
        ],
        [
         "371",
         "297000.0",
         "439112.19230567914",
         "-142112.19230567914"
        ],
        [
         "3178",
         "659000.0",
         "479284.48708148254",
         "179715.51291851746"
        ],
        [
         "2320",
         "750000.0",
         "771369.6804172022",
         "-21369.68041720218"
        ],
        [
         "3281",
         "395000.0",
         "400486.6340136725",
         "-5486.634013672476"
        ],
        [
         "700",
         "380000.0",
         "395938.4705484083",
         "-15938.47054840828"
        ],
        [
         "2515",
         "600000.0",
         "548941.7945716977",
         "51058.20542830229"
        ],
        [
         "644",
         "324000.0",
         "458301.9307780498",
         "-134301.9307780498"
        ],
        [
         "2339",
         "790000.0",
         "467150.1729849835",
         "322849.8270150165"
        ],
        [
         "1315",
         "280000.0",
         "316825.1790711959",
         "-36825.17907119589"
        ],
        [
         "3137",
         "600000.0",
         "308696.47076946794",
         "291303.52923053206"
        ],
        [
         "1123",
         "825500.0",
         "641702.2790419591",
         "183797.7209580409"
        ],
        [
         "1533",
         "969990.0",
         "859355.2848319133",
         "110634.7151680867"
        ],
        [
         "3845",
         "168333.333333",
         "332486.1424386863",
         "-164152.8091056863"
        ],
        [
         "1395",
         "653000.0",
         "624401.2831436021",
         "28598.71685639792"
        ],
        [
         "794",
         "235000.0",
         "350034.3074576406",
         "-115034.30745764059"
        ],
        [
         "3479",
         "1135250.0",
         "1368114.5976803293",
         "-232864.59768032935"
        ],
        [
         "246",
         "455000.0",
         "479789.42477562174",
         "-24789.424775621737"
        ],
        [
         "3030",
         "550000.0",
         "447306.8924994029",
         "102693.10750059708"
        ],
        [
         "734",
         "399500.0",
         "562144.5603862472",
         "-162644.56038624723"
        ],
        [
         "505",
         "289000.0",
         "520016.79788489593",
         "-231016.79788489593"
        ],
        [
         "1703",
         "566000.0",
         "538817.5631193235",
         "27182.43688067654"
        ],
        [
         "2887",
         "235000.0",
         "533906.5726133034",
         "-298906.57261330343"
        ],
        [
         "1558",
         "390000.0",
         "584630.3483082621",
         "-194630.34830826207"
        ],
        [
         "3336",
         "527000.0",
         "614511.9425678791",
         "-87511.9425678791"
        ],
        [
         "1490",
         "744000.0",
         "621905.2389934226",
         "122094.7610065774"
        ],
        [
         "2866",
         "230000.0",
         "304189.57030741224",
         "-74189.57030741224"
        ]
       ],
       "shape": {
        "columns": 3,
        "rows": 3098
       }
      },
      "text/html": [
       "<div>\n",
       "<style scoped>\n",
       "    .dataframe tbody tr th:only-of-type {\n",
       "        vertical-align: middle;\n",
       "    }\n",
       "\n",
       "    .dataframe tbody tr th {\n",
       "        vertical-align: top;\n",
       "    }\n",
       "\n",
       "    .dataframe thead th {\n",
       "        text-align: right;\n",
       "    }\n",
       "</style>\n",
       "<table border=\"1\" class=\"dataframe\">\n",
       "  <thead>\n",
       "    <tr style=\"text-align: right;\">\n",
       "      <th></th>\n",
       "      <th>Actual</th>\n",
       "      <th>Predictions</th>\n",
       "      <th>residuals</th>\n",
       "    </tr>\n",
       "  </thead>\n",
       "  <tbody>\n",
       "    <tr>\n",
       "      <th>691</th>\n",
       "      <td>482000.0</td>\n",
       "      <td>480542.467725</td>\n",
       "      <td>1457.532275</td>\n",
       "    </tr>\n",
       "    <tr>\n",
       "      <th>2183</th>\n",
       "      <td>540000.0</td>\n",
       "      <td>482709.151292</td>\n",
       "      <td>57290.848708</td>\n",
       "    </tr>\n",
       "    <tr>\n",
       "      <th>416</th>\n",
       "      <td>588000.0</td>\n",
       "      <td>503565.754369</td>\n",
       "      <td>84434.245631</td>\n",
       "    </tr>\n",
       "    <tr>\n",
       "      <th>1226</th>\n",
       "      <td>590000.0</td>\n",
       "      <td>558577.783483</td>\n",
       "      <td>31422.216517</td>\n",
       "    </tr>\n",
       "    <tr>\n",
       "      <th>217</th>\n",
       "      <td>1058000.0</td>\n",
       "      <td>515065.187574</td>\n",
       "      <td>542934.812426</td>\n",
       "    </tr>\n",
       "    <tr>\n",
       "      <th>...</th>\n",
       "      <td>...</td>\n",
       "      <td>...</td>\n",
       "      <td>...</td>\n",
       "    </tr>\n",
       "    <tr>\n",
       "      <th>1130</th>\n",
       "      <td>289950.0</td>\n",
       "      <td>497047.738671</td>\n",
       "      <td>-207097.738671</td>\n",
       "    </tr>\n",
       "    <tr>\n",
       "      <th>1294</th>\n",
       "      <td>930000.0</td>\n",
       "      <td>653105.876468</td>\n",
       "      <td>276894.123532</td>\n",
       "    </tr>\n",
       "    <tr>\n",
       "      <th>860</th>\n",
       "      <td>415000.0</td>\n",
       "      <td>406391.197255</td>\n",
       "      <td>8608.802745</td>\n",
       "    </tr>\n",
       "    <tr>\n",
       "      <th>3507</th>\n",
       "      <td>232500.0</td>\n",
       "      <td>471917.239298</td>\n",
       "      <td>-239417.239298</td>\n",
       "    </tr>\n",
       "    <tr>\n",
       "      <th>3174</th>\n",
       "      <td>255000.0</td>\n",
       "      <td>540806.888432</td>\n",
       "      <td>-285806.888432</td>\n",
       "    </tr>\n",
       "  </tbody>\n",
       "</table>\n",
       "<p>3098 rows × 3 columns</p>\n",
       "</div>"
      ],
      "text/plain": [
       "         Actual    Predictions      residuals\n",
       "691    482000.0  480542.467725    1457.532275\n",
       "2183   540000.0  482709.151292   57290.848708\n",
       "416    588000.0  503565.754369   84434.245631\n",
       "1226   590000.0  558577.783483   31422.216517\n",
       "217   1058000.0  515065.187574  542934.812426\n",
       "...         ...            ...            ...\n",
       "1130   289950.0  497047.738671 -207097.738671\n",
       "1294   930000.0  653105.876468  276894.123532\n",
       "860    415000.0  406391.197255    8608.802745\n",
       "3507   232500.0  471917.239298 -239417.239298\n",
       "3174   255000.0  540806.888432 -285806.888432\n",
       "\n",
       "[3098 rows x 3 columns]"
      ]
     },
     "execution_count": 23,
     "metadata": {},
     "output_type": "execute_result"
    }
   ],
   "source": [
    "residuals(model=model, features = X_train_sm, target = y_train)"
   ]
  },
  {
   "cell_type": "code",
   "execution_count": 35,
   "metadata": {},
   "outputs": [],
   "source": [
    "import plotly.express as px\n",
    "import plotly.graph_objects as go\n",
    "# check for linearity\n",
    "def linear_assumption(model, features, target):\n",
    "    # get residuals for the plot\n",
    "    residuals_df = residuals(model, features, target)\n",
    "\n",
    "    # plot them\n",
    "    fig = px.scatter(data_frame = residuals_df, x = 'Actual', y = 'Predictions')\n",
    "    # plot horizontal line\n",
    "    # Add the diagonal line (ideal line where y = x)\n",
    "    min_val = min(residuals_df['Actual'].min(), residuals_df['Predictions'].min())\n",
    "    max_val = max(residuals_df['Actual'].max(), residuals_df['Predictions'].max())\n",
    "    fig.add_trace(go.Scatter(x=[min_val, max_val], y=[min_val, max_val], mode='lines', line=dict(color='red', dash='dash'), name= 'Ideal Line'))\n",
    "    fig.show()"
   ]
  },
  {
   "cell_type": "code",
   "execution_count": 36,
   "metadata": {},
   "outputs": [
    {
     "data": {
      "application/vnd.plotly.v1+json": {
       "config": {
        "plotlyServerURL": "https://plot.ly"
       },
       "data": [
        {
         "hovertemplate": "Actual=%{x}<br>Predictions=%{y}<extra></extra>",
         "legendgroup": "",
         "marker": {
          "color": "#636efa",
          "symbol": "circle"
         },
         "mode": "markers",
         "name": "",
         "showlegend": false,
         "type": "scattergl",
         "x": {
          "bdata": "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",
          "dtype": "f8"
         },
         "xaxis": "x",
         "y": {
          "bdata": "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",
          "dtype": "f8"
         },
         "yaxis": "y"
        },
        {
         "line": {
          "color": "red",
          "dash": "dash"
         },
         "mode": "lines",
         "name": "Ideal Line",
         "type": "scatter",
         "x": [
          83300,
          1368114.5976803293
         ],
         "y": [
          83300,
          1368114.5976803293
         ]
        }
       ],
       "layout": {
        "legend": {
         "tracegroupgap": 0
        },
        "margin": {
         "t": 60
        },
        "template": {
         "data": {
          "bar": [
           {
            "error_x": {
             "color": "#2a3f5f"
            },
            "error_y": {
             "color": "#2a3f5f"
            },
            "marker": {
             "line": {
              "color": "#E5ECF6",
              "width": 0.5
             },
             "pattern": {
              "fillmode": "overlay",
              "size": 10,
              "solidity": 0.2
             }
            },
            "type": "bar"
           }
          ],
          "barpolar": [
           {
            "marker": {
             "line": {
              "color": "#E5ECF6",
              "width": 0.5
             },
             "pattern": {
              "fillmode": "overlay",
              "size": 10,
              "solidity": 0.2
             }
            },
            "type": "barpolar"
           }
          ],
          "carpet": [
           {
            "aaxis": {
             "endlinecolor": "#2a3f5f",
             "gridcolor": "white",
             "linecolor": "white",
             "minorgridcolor": "white",
             "startlinecolor": "#2a3f5f"
            },
            "baxis": {
             "endlinecolor": "#2a3f5f",
             "gridcolor": "white",
             "linecolor": "white",
             "minorgridcolor": "white",
             "startlinecolor": "#2a3f5f"
            },
            "type": "carpet"
           }
          ],
          "choropleth": [
           {
            "colorbar": {
             "outlinewidth": 0,
             "ticks": ""
            },
            "type": "choropleth"
           }
          ],
          "contour": [
           {
            "colorbar": {
             "outlinewidth": 0,
             "ticks": ""
            },
            "colorscale": [
             [
              0,
              "#0d0887"
             ],
             [
              0.1111111111111111,
              "#46039f"
             ],
             [
              0.2222222222222222,
              "#7201a8"
             ],
             [
              0.3333333333333333,
              "#9c179e"
             ],
             [
              0.4444444444444444,
              "#bd3786"
             ],
             [
              0.5555555555555556,
              "#d8576b"
             ],
             [
              0.6666666666666666,
              "#ed7953"
             ],
             [
              0.7777777777777778,
              "#fb9f3a"
             ],
             [
              0.8888888888888888,
              "#fdca26"
             ],
             [
              1,
              "#f0f921"
             ]
            ],
            "type": "contour"
           }
          ],
          "contourcarpet": [
           {
            "colorbar": {
             "outlinewidth": 0,
             "ticks": ""
            },
            "type": "contourcarpet"
           }
          ],
          "heatmap": [
           {
            "colorbar": {
             "outlinewidth": 0,
             "ticks": ""
            },
            "colorscale": [
             [
              0,
              "#0d0887"
             ],
             [
              0.1111111111111111,
              "#46039f"
             ],
             [
              0.2222222222222222,
              "#7201a8"
             ],
             [
              0.3333333333333333,
              "#9c179e"
             ],
             [
              0.4444444444444444,
              "#bd3786"
             ],
             [
              0.5555555555555556,
              "#d8576b"
             ],
             [
              0.6666666666666666,
              "#ed7953"
             ],
             [
              0.7777777777777778,
              "#fb9f3a"
             ],
             [
              0.8888888888888888,
              "#fdca26"
             ],
             [
              1,
              "#f0f921"
             ]
            ],
            "type": "heatmap"
           }
          ],
          "histogram": [
           {
            "marker": {
             "pattern": {
              "fillmode": "overlay",
              "size": 10,
              "solidity": 0.2
             }
            },
            "type": "histogram"
           }
          ],
          "histogram2d": [
           {
            "colorbar": {
             "outlinewidth": 0,
             "ticks": ""
            },
            "colorscale": [
             [
              0,
              "#0d0887"
             ],
             [
              0.1111111111111111,
              "#46039f"
             ],
             [
              0.2222222222222222,
              "#7201a8"
             ],
             [
              0.3333333333333333,
              "#9c179e"
             ],
             [
              0.4444444444444444,
              "#bd3786"
             ],
             [
              0.5555555555555556,
              "#d8576b"
             ],
             [
              0.6666666666666666,
              "#ed7953"
             ],
             [
              0.7777777777777778,
              "#fb9f3a"
             ],
             [
              0.8888888888888888,
              "#fdca26"
             ],
             [
              1,
              "#f0f921"
             ]
            ],
            "type": "histogram2d"
           }
          ],
          "histogram2dcontour": [
           {
            "colorbar": {
             "outlinewidth": 0,
             "ticks": ""
            },
            "colorscale": [
             [
              0,
              "#0d0887"
             ],
             [
              0.1111111111111111,
              "#46039f"
             ],
             [
              0.2222222222222222,
              "#7201a8"
             ],
             [
              0.3333333333333333,
              "#9c179e"
             ],
             [
              0.4444444444444444,
              "#bd3786"
             ],
             [
              0.5555555555555556,
              "#d8576b"
             ],
             [
              0.6666666666666666,
              "#ed7953"
             ],
             [
              0.7777777777777778,
              "#fb9f3a"
             ],
             [
              0.8888888888888888,
              "#fdca26"
             ],
             [
              1,
              "#f0f921"
             ]
            ],
            "type": "histogram2dcontour"
           }
          ],
          "mesh3d": [
           {
            "colorbar": {
             "outlinewidth": 0,
             "ticks": ""
            },
            "type": "mesh3d"
           }
          ],
          "parcoords": [
           {
            "line": {
             "colorbar": {
              "outlinewidth": 0,
              "ticks": ""
             }
            },
            "type": "parcoords"
           }
          ],
          "pie": [
           {
            "automargin": true,
            "type": "pie"
           }
          ],
          "scatter": [
           {
            "fillpattern": {
             "fillmode": "overlay",
             "size": 10,
             "solidity": 0.2
            },
            "type": "scatter"
           }
          ],
          "scatter3d": [
           {
            "line": {
             "colorbar": {
              "outlinewidth": 0,
              "ticks": ""
             }
            },
            "marker": {
             "colorbar": {
              "outlinewidth": 0,
              "ticks": ""
             }
            },
            "type": "scatter3d"
           }
          ],
          "scattercarpet": [
           {
            "marker": {
             "colorbar": {
              "outlinewidth": 0,
              "ticks": ""
             }
            },
            "type": "scattercarpet"
           }
          ],
          "scattergeo": [
           {
            "marker": {
             "colorbar": {
              "outlinewidth": 0,
              "ticks": ""
             }
            },
            "type": "scattergeo"
           }
          ],
          "scattergl": [
           {
            "marker": {
             "colorbar": {
              "outlinewidth": 0,
              "ticks": ""
             }
            },
            "type": "scattergl"
           }
          ],
          "scattermap": [
           {
            "marker": {
             "colorbar": {
              "outlinewidth": 0,
              "ticks": ""
             }
            },
            "type": "scattermap"
           }
          ],
          "scattermapbox": [
           {
            "marker": {
             "colorbar": {
              "outlinewidth": 0,
              "ticks": ""
             }
            },
            "type": "scattermapbox"
           }
          ],
          "scatterpolar": [
           {
            "marker": {
             "colorbar": {
              "outlinewidth": 0,
              "ticks": ""
             }
            },
            "type": "scatterpolar"
           }
          ],
          "scatterpolargl": [
           {
            "marker": {
             "colorbar": {
              "outlinewidth": 0,
              "ticks": ""
             }
            },
            "type": "scatterpolargl"
           }
          ],
          "scatterternary": [
           {
            "marker": {
             "colorbar": {
              "outlinewidth": 0,
              "ticks": ""
             }
            },
            "type": "scatterternary"
           }
          ],
          "surface": [
           {
            "colorbar": {
             "outlinewidth": 0,
             "ticks": ""
            },
            "colorscale": [
             [
              0,
              "#0d0887"
             ],
             [
              0.1111111111111111,
              "#46039f"
             ],
             [
              0.2222222222222222,
              "#7201a8"
             ],
             [
              0.3333333333333333,
              "#9c179e"
             ],
             [
              0.4444444444444444,
              "#bd3786"
             ],
             [
              0.5555555555555556,
              "#d8576b"
             ],
             [
              0.6666666666666666,
              "#ed7953"
             ],
             [
              0.7777777777777778,
              "#fb9f3a"
             ],
             [
              0.8888888888888888,
              "#fdca26"
             ],
             [
              1,
              "#f0f921"
             ]
            ],
            "type": "surface"
           }
          ],
          "table": [
           {
            "cells": {
             "fill": {
              "color": "#EBF0F8"
             },
             "line": {
              "color": "white"
             }
            },
            "header": {
             "fill": {
              "color": "#C8D4E3"
             },
             "line": {
              "color": "white"
             }
            },
            "type": "table"
           }
          ]
         },
         "layout": {
          "annotationdefaults": {
           "arrowcolor": "#2a3f5f",
           "arrowhead": 0,
           "arrowwidth": 1
          },
          "autotypenumbers": "strict",
          "coloraxis": {
           "colorbar": {
            "outlinewidth": 0,
            "ticks": ""
           }
          },
          "colorscale": {
           "diverging": [
            [
             0,
             "#8e0152"
            ],
            [
             0.1,
             "#c51b7d"
            ],
            [
             0.2,
             "#de77ae"
            ],
            [
             0.3,
             "#f1b6da"
            ],
            [
             0.4,
             "#fde0ef"
            ],
            [
             0.5,
             "#f7f7f7"
            ],
            [
             0.6,
             "#e6f5d0"
            ],
            [
             0.7,
             "#b8e186"
            ],
            [
             0.8,
             "#7fbc41"
            ],
            [
             0.9,
             "#4d9221"
            ],
            [
             1,
             "#276419"
            ]
           ],
           "sequential": [
            [
             0,
             "#0d0887"
            ],
            [
             0.1111111111111111,
             "#46039f"
            ],
            [
             0.2222222222222222,
             "#7201a8"
            ],
            [
             0.3333333333333333,
             "#9c179e"
            ],
            [
             0.4444444444444444,
             "#bd3786"
            ],
            [
             0.5555555555555556,
             "#d8576b"
            ],
            [
             0.6666666666666666,
             "#ed7953"
            ],
            [
             0.7777777777777778,
             "#fb9f3a"
            ],
            [
             0.8888888888888888,
             "#fdca26"
            ],
            [
             1,
             "#f0f921"
            ]
           ],
           "sequentialminus": [
            [
             0,
             "#0d0887"
            ],
            [
             0.1111111111111111,
             "#46039f"
            ],
            [
             0.2222222222222222,
             "#7201a8"
            ],
            [
             0.3333333333333333,
             "#9c179e"
            ],
            [
             0.4444444444444444,
             "#bd3786"
            ],
            [
             0.5555555555555556,
             "#d8576b"
            ],
            [
             0.6666666666666666,
             "#ed7953"
            ],
            [
             0.7777777777777778,
             "#fb9f3a"
            ],
            [
             0.8888888888888888,
             "#fdca26"
            ],
            [
             1,
             "#f0f921"
            ]
           ]
          },
          "colorway": [
           "#636efa",
           "#EF553B",
           "#00cc96",
           "#ab63fa",
           "#FFA15A",
           "#19d3f3",
           "#FF6692",
           "#B6E880",
           "#FF97FF",
           "#FECB52"
          ],
          "font": {
           "color": "#2a3f5f"
          },
          "geo": {
           "bgcolor": "white",
           "lakecolor": "white",
           "landcolor": "#E5ECF6",
           "showlakes": true,
           "showland": true,
           "subunitcolor": "white"
          },
          "hoverlabel": {
           "align": "left"
          },
          "hovermode": "closest",
          "mapbox": {
           "style": "light"
          },
          "paper_bgcolor": "white",
          "plot_bgcolor": "#E5ECF6",
          "polar": {
           "angularaxis": {
            "gridcolor": "white",
            "linecolor": "white",
            "ticks": ""
           },
           "bgcolor": "#E5ECF6",
           "radialaxis": {
            "gridcolor": "white",
            "linecolor": "white",
            "ticks": ""
           }
          },
          "scene": {
           "xaxis": {
            "backgroundcolor": "#E5ECF6",
            "gridcolor": "white",
            "gridwidth": 2,
            "linecolor": "white",
            "showbackground": true,
            "ticks": "",
            "zerolinecolor": "white"
           },
           "yaxis": {
            "backgroundcolor": "#E5ECF6",
            "gridcolor": "white",
            "gridwidth": 2,
            "linecolor": "white",
            "showbackground": true,
            "ticks": "",
            "zerolinecolor": "white"
           },
           "zaxis": {
            "backgroundcolor": "#E5ECF6",
            "gridcolor": "white",
            "gridwidth": 2,
            "linecolor": "white",
            "showbackground": true,
            "ticks": "",
            "zerolinecolor": "white"
           }
          },
          "shapedefaults": {
           "line": {
            "color": "#2a3f5f"
           }
          },
          "ternary": {
           "aaxis": {
            "gridcolor": "white",
            "linecolor": "white",
            "ticks": ""
           },
           "baxis": {
            "gridcolor": "white",
            "linecolor": "white",
            "ticks": ""
           },
           "bgcolor": "#E5ECF6",
           "caxis": {
            "gridcolor": "white",
            "linecolor": "white",
            "ticks": ""
           }
          },
          "title": {
           "x": 0.05
          },
          "xaxis": {
           "automargin": true,
           "gridcolor": "white",
           "linecolor": "white",
           "ticks": "",
           "title": {
            "standoff": 15
           },
           "zerolinecolor": "white",
           "zerolinewidth": 2
          },
          "yaxis": {
           "automargin": true,
           "gridcolor": "white",
           "linecolor": "white",
           "ticks": "",
           "title": {
            "standoff": 15
           },
           "zerolinecolor": "white",
           "zerolinewidth": 2
          }
         }
        },
        "xaxis": {
         "anchor": "y",
         "domain": [
          0,
          1
         ],
         "title": {
          "text": "Actual"
         }
        },
        "yaxis": {
         "anchor": "x",
         "domain": [
          0,
          1
         ],
         "title": {
          "text": "Predictions"
         }
        }
       }
      }
     },
     "metadata": {},
     "output_type": "display_data"
    }
   ],
   "source": [
    "linear_assumption(model, X_train_sm, y_train)"
   ]
  },
  {
   "cell_type": "code",
   "execution_count": 44,
   "metadata": {},
   "outputs": [],
   "source": [
    "#  plot the residuals vs fitted\n",
    "def fitted_residuals_plot(model, features, target):\n",
    "    # get residuals \n",
    "    residuals_df = residuals(model, features, target)\n",
    "    # plot predicted on x and residuals on y\n",
    "    fig = px.scatter(data_frame=residuals_df, x = 'Predictions', y = 'residuals')\n",
    "    fig.show()\n",
    "\n"
   ]
  },
  {
   "cell_type": "code",
   "execution_count": 45,
   "metadata": {},
   "outputs": [
    {
     "data": {
      "application/vnd.plotly.v1+json": {
       "config": {
        "plotlyServerURL": "https://plot.ly"
       },
       "data": [
        {
         "hovertemplate": "Predictions=%{x}<br>residuals=%{y}<extra></extra>",
         "legendgroup": "",
         "marker": {
          "color": "#636efa",
          "symbol": "circle"
         },
         "mode": "markers",
         "name": "",
         "showlegend": false,
         "type": "scattergl",
         "x": {
          "bdata": "0Dnz3nlUHUFNW+yaVHYdQRpWeQQ3vB5BI6AkkeMLIUH8VxPA5G8fQdvTycCEMBpBa5+vIkbLIEEGy96HsikgQU3HGZ1b4xtBgrMFg6muGUEJDmelrIsaQXJ1wmubmB9B4h7iXqSQJ0EF3Xk+0l4cQRVUdWYfYB5BKIBseV+9GEGDmqOTOs4cQackwwSGFBpB1plA2haZHEGt5HI4VFMSQSJ2I5p8cBpBd69RLrVxFEE9qsLCwAIhQb/JT6q4rydBq8frxCDNGkH4fMXy0UAdQb6kX1xTiidBUuE6iZpxGEEjcdfhiSoYQQAa0pabwCBBj+Eduff4G0G7+SKxOIMcQYhwXrdkVhNBM2QR4mHXEkFxlt6OTJUjQRF91ZG2OSpBbXLbkRhLFEG+MviQIg4jQf0s1jpJXRVB/JMBmTLgNEFuYfiytUgdQQ1d65ErTRtBOvLqHsEnIUH4vAgxQ70fQQwtUSCDcSBBJ5ItJSVLIEHldVWybNchQc5BmOLfwCJBjFhdeqL6IkGRqv5H9pASQf3HUUYP+StBcSJygUdyE0E2fqHgtZoeQcOsePKzphhBRRhAMThEIkFJab2MDyolQaO9Ob5nySVBi/NhGcrsGUHhYuByVTsgQbPi6hGLkBpB9xBlxWqREkE0uw/1gQ8pQT+WIb6tPSJBBSWzCZ18HEEkcjYabEsmQUttKAOrfSVBhA6ydbjvGEFOmPKPl7AsQWAAHTi4qBlBX+ZM+J24IUGHQcbLcVUYQeku/P0mdxRBVRYdygw6GkEvH/+uGB8ZQYNrz7hV9h1Bz1rfqLoKJUE6xH1LTj4SQcTfYLZ14BZBYi9+RjnaH0GjB+ji5GUiQRH109eDSRVBow9EwA8CIEFFmRbzybAcQUQltXrDeBBB9jy+KSwXIkEB6Tcbk+kaQWYvAOjDAhVB8XfWwYLzHUG0uXrbAwoeQUe2XGWRyBFBuCeks7LXIkF11uD85dgaQXemKj5MpyVBoWRAmb/NHEFudM9r/tQcQa9lvt+bshdB17K0nN2sEkHRH2anEoQjQVju8DXRVh5BnsIiLhRnFUH0VGsUZyIkQaz/yFrpUhhBa6RYUEYoGEHYRqpVtTQZQcvNW6lJCytB+icElGnLG0GpESZSkjYcQabnnIF6mxxBkzgPFztZJEFVRxX8wGodQaZ5Ba5gciVBjJIt+Jh/EkGOuU2zfcgYQYHZLJs2hBhBj57Bh0x6EkFdXB9zm7csQRPbRg2UfRFB7FjdsWB3IEGx7DX6k0IUQQVAr4bQNiBB48mg8n4OHUErtRFda6gdQZ9TdvFDvhJBjOEdH3KbIEGwrIw5YAgaQTuNPdl2oRZBsQ/6iQO5HEGHpLd7aIMZQYkJ3GcMpilBHq7k2hRRIkFf0HB+aCsnQSDfW//b7SBBivGoItIiG0F8mkP/Gx4gQQTFY1GA2xBBxxGUQWuYJEHH1aJr1KUfQc5qxWON2iJBgMnb2BoJEkFfbfjUPBshQT0sbDh9uxxBLLAM7BuHFEFtJwQkZ5YWQVsD1p7BlRlBswXKsfmaFkGWHKA88zwdQXzDvGbDQR1BC8LJjedBI0EQB+CAZAUZQRzd1mpXAyFB858jZ7v7EkFJZUIel1QSQTVB9Cr2kxhBlvWW/butEEE0q08FpoYUQdrnMMdfPBdBgQqkJA+1EkGQ6k0oTfEfQX5U8n1W4B1Bji4p/ToMJEH6GrfYRoEaQQSsO43AFSNBZ9Kvno7lGkGp/uBn0TEWQZNzpdRhrCNBTdA/ud9fGUFXBHQ5sWQgQUv9aAmngxVBbxc4LZZiHEHeZJfybB4aQQRt0JU65iNBKrdXf6XCHEHEeKtLEmMXQWLhQUsv6xNB4U25faZ7F0EoRVLHH/8cQW+pLIiITB1BTKmErPkMIkEhrUc1mm0YQRF+vLnAKCRBVfcLkOnhFkEwTJqg1JciQbwZeGtFdRdB4LBrueImKUGk+ueoeKAUQc68+hlZ3xpBTGH5XR5UJUEtWDbU4DEZQcaeLZrkFCVBEcCeBG9aHEFJJFHo4UwUQVi2Bik69xRB+zTreev/JkGXp28v9AsWQTMDsuiIuiBB7khPxSe5GUHCnJDg3tMgQcoKmhh/LiJBFaGOI25qGEFYX2P2APgVQTDXt1FdJyFBo20ZuyFqGkGpVs5SAvkhQQc7pIcfNCNBiea0m+4zHEGuXoW6JRkTQTBRXGUf8BZBHUxHzlopHEGnBbEO4hkaQQg5opW/xyNBEqK5oQ7oHEH54arFOtcbQSc4ZYqjARlB/FHNM0E8E0FYsTcqkTUfQfhA1oWS/hhBQgobjbtCG0GAAOfLUksVQYI3xeCW1SJBQU0OzhIOE0Gzv5u8G7EZQUY/atEmih9BaiKZnGsaIEF07dbr4r4oQb2l33yaLiNBRBr+UZmFFkFr4It7ekccQdIMPL0B+RZB7VDvtMRhJkFWU+7cQ7cSQdzjzPMAvx1BV4mTKtV0JEGrPyuyPAgiQUe1cdwJlBJB6yqZ0kwcIUEGLC0VSrUcQSdVFNjZMCRBKK18xhZKHkGuYpwtpMccQdiGYiUnKhtB6SR2xX0lG0GBwboDLpcaQedTjV87Xx5B84cvn32yEUH7eIK2NtchQTMt9gWV+R1BT87mxzvdFUHav8EKs7IiQfQekfh2hxNBqLC0I2tmHEG68kUtQ50iQV8oTTwyFhtBIrLOI0uiG0E8K+8S8q0YQYI5xQja6RlBRLY3VrdUH0H9sIEQmqwXQfzXODayZiFB4X/7kGoHI0E1aBMkLvEhQavA2+6VIB5BQZ8JljztIkEaCCoUfPUkQdZSnVgJBRFBu7MKZCxiFEFgx1Wgs0sgQYrFipgtNB5BBP52gn+sE0HanCQ+0NocQW3QfQUV6BpB4uAUiTnMGkGiiiMMKaMiQQInnEA/nSJBFtkFp95IMEFOzwRdHJIhQWFzHcWw2SFBjAfMKS2WJkEawPzXsJ0hQYbVcWE2FCJBg6TrmVSjHEF3nBS7rIcdQdnd0qSbVRZBEFgJq4MgGkFhxcZ/fuMZQbQDUkpfXhZB11kUMbspGEGVOVdH4u0YQbmGL5iGdSJBzEpb7ehLHEEWxUp/aR0eQd3r3g01AxxB1bjTjIHOHUEspDs0jGgYQVh19/QVDCJBYw1vX1t3HUGsymvlErEiQVClBeeewRlBLxdoPtVPGUHhPsuwwDEZQc7sswDBIxZBZROH5JmjFkHr/2dbWaUeQUEBeXEVmyBBZlPF09JwGEGNKHunNQMeQQMVeho+HRRB1T23hpq2IUF4YnGuYD0SQdfikFF+pyJBC/P3IeySDEGKqZVRaCUeQR8TriiR3xVBUV181M6OEUGG5FeS/w0cQWHax2U4mhVB0IPqBFciI0HMfwesEgIjQQJ+fdxFpRpBXM8dmUTNG0FEDd3mwsgaQQDiWiqFPxhBxG10x9vmIEH++p6XsfAhQVperwLCJxVB3q4IoPGfH0FvTBEv6+EYQVPnraHBORxBYACiPL21IkGj+hdcICUmQaRQuqVbrhNBAagtejFuE0EVLY7n5z4YQYo18H8QYiJB+LC6/WSLGkF5MCCog/8cQX1gSgJ0LCBBYf9bMWaHJEHMEfBl0+gWQSkQUeLMNhtBTDvxUuJgGkEhEJXojQodQbf5SFCX5yNBifVxX07uFkEoC4/rn/IeQTzMdZPJzRhBYFbyQ9oNFUH4NQ8fg1sgQeSmGbX0XBZBK9M704+mGEFqnjdpJBEdQfYgdfRY4xtBIb0Ev85kE0FHC+N5OSoeQd6ZNW6cyCpB/f3oBDhIF0EMRR4M/e0dQZHt8yho1ilBTLfZgEtQF0GB57tuWOkiQVu58jOmhB5BqnVly89mHEFoyeyxflceQSfP5qrYKxhB0oLv7U9HIUGB5ydOnVkVQYpAG6CNrxtBCNS+sHwRG0E3/KvJCjgZQamzPvpr5hlBg7PhteMCFkHLhUTVAF8WQaT1BwTE9hxBUKb21M9vE0HXSDOHhG4WQcA6vK0fzhlBtkplZgtJHUHXwKXlUNYdQa6qv1xr4xpB9QrdAwGzG0GgszPQt5YgQVZHCjwLCx9BQWBnBGA5GEEYDkolRg0YQSHH7B7c4x1BcKevErFsG0FWZNTD8wAhQZtChQ62ORVB71OdwykCIUHxa+SSBKQaQWH/e6bg2SNBCv42YwVFJEHwULSvJgohQbptm/FomRxBKAlWKUapIUFV76d1z5cpQf7Ka6iL4hRBy5SndOItE0Gm1giBDcwlQasYapQ/XSBB8vfP/mo6FkEd4powvRccQfyIZjazbSRBSgCVDEb6H0H2KkjB3mclQQRVV4ReaiBBjloAJfR5IkGL7yq0SU4gQbGRC6yi+xpBPsaAtXOoIEFYrYhCzQ8ZQZcWMaVeuyNBqeG2m+ktFkF/QSXlIQMTQfQO2w/FsiNBtrdjXNQ5IkEqXA228X8SQd7lrNr3KxxBqa6DyEkBJEFf7kX4jT4hQUhElE0TKx5B9YnqFQReIEGxv5+oYHIcQUfJJzvfZBxBI5bKXjotFUHqDvDp+AEeQUq5Rqsf0ydBNud03rxTIEG44elhZzgmQR5QqyLDKRNBPJdPgq8lJEEfzxgcg8ccQWH6m3r8XRhB4cMYEd0WFEFNs0FyuN0YQUG7fU6WRyRB92r6uZ+5EkHUwa+Sb28SQVWTjJUIzRhBGzpD8xkAFkE4W8PjMjAYQWnXWmhzWRRBJYW5DQRlLEGjKlEn/ogkQVokofiV5SRBXLYtB4gzHUH5mTyHniUWQQTzhYxIayBB+sg4N4MhFUGpFtjJYrIgQeWGewTDDhtBksY8vrb2JkHDOCQJE3EgQekddiluMRJBqOcuEGqKFUGEBuXc9ZMhQbnekB6oKRVBmJXs2HjHFkHVCTx/+iATQd9NPuv+wCJBVFKJvQXjG0H4oonlMYwXQRhpazQw0BJBozddDq34IUGAQNOjX7sgQRI5sK6ELB5B/g+zDscRIEH69n93Kn4QQR4AwUcOzSNB4C3YsliFEkGNdunMAH4pQfS4sd72cCBBswse8GKLEUEVKIqOgOcgQYIdKmiMgxhBL8jP4kRQJkGahk19krMZQY2N3Z3jABZBPflLuGAHGkGdXho5OCckQWpyMcr0ABtB6IEob8hYHUGrjLs3fygbQQF33gxIGBFBcv6U5McsFEG3h/ChXBwmQY3j6aq4LyJBl7Ua5Rb6IEGytNGAT+QYQSv9dzQD9h9BJcRIgPoHG0Fiu7m0fNodQb7uD9cmOyVB4iL190wrHkEZ1SgNZI8QQXOGC1cdThVB4QAYxmTPG0Fiy6u1v1kbQU9OG2LDvxxBBQ8USAujE0FZ5U5vjIQiQcrTINIEoRNBGhl9dtxQHUEL4jSl5Q4UQVtIyuWtoxlB4F7Q5Ay2FUFbTt+2O1AkQfEgCqxYCiRBqopHP7qSEUFzMPG6JEYaQQQJcBqQhBlBQy49DlXmH0Ge7yzo8jIkQVBrmnRRWBpBQ50KXvebE0GwPR3SpN8dQcxnEFunoxlBXvBoUq9WF0ERuvPYe7soQbNE7LRHdhFB/NuZuaMEIEESzvkkcEIlQZHaLNpWxBJBJWRsJDFmKEEnK89IIBkmQVawRUzsUxtBwiV/fzOrGUHifbw/sFoZQejFUBDfTxtBngh455L3E0Fn47T89UkZQXdG2MUfwipBaIqQQ2v5JEGE+nYozBAiQeRM8e++kx1BplUKTrJbKUGOAhh92u8XQURBTBWBYydBWFfJlsb7JEHX+dhC/TwWQYsH2uJ0HSBB0H5mtyV0KkEIob600yoUQcrzOsFH/BtBrCVWQs2mIEG7B5ynPNURQdJTxeRyLyBBezny0ahcGEFbW+sTrdghQXmRonCrNSBBapC51cWuHEHcC0VhFjMXQTUnk8ExdCJBFVMqnPW7JEF7gH44CmQSQe1ZxQnpbB9BdxaDQiT5LEEtjdr4r+kQQU3tiYLKyxhBoOXiy3YdI0FCZolpqg0YQS5v+KFH9RBBXT5sQ6aRHkEARyiU64giQZt1A7MQaRhBXTlYmNXeIkHlaStdmCotQWlYc92lViFByugGAhn0IEGE1M3rhsYSQWcsj1XnjxZBPZMi7NuwFEG+OSfLfGEZQX8rNZLleR1BFatYgHODHUHF0aHvJmEfQaKIkVUCNSdBQWzwNx+CFUGbyYjtbwQfQXl/68rTWSNB2djx5tK6HUEDlJaO504gQUgGRYAwCBNBKbQdepFbEkGFiVUBndcTQdvEsqHZeBVBLQCFUbrxEEESL4oa7FshQRo21UrTfhxBdsuUq3bzEUHMn25+AJUSQU6PMsNBnSJB6GYqwiCUHEGHSxLZYi8WQWddjiLnwyJBjH6ziG7WHkGiyAFPACETQTXRLc5w9h1BnW+qBZ8SI0Fho0ltEXEhQeGrkddyVRFB7BZCNqAtIEH3A3kqaoUhQWlHlAUXISBB/1fZ4qVdEkElZkDai7QYQSpBRtwxGyBBTv3FYtYUE0FRr2zUl1MdQX7612rm0xNBu/Fi/JQPIkGfuqG1r24TQVN2s5rYlidB2W/Y04UsJEGW+WY2uBwcQTEcwF2z8SZBDl4Xae4yH0HooQBv4aMfQXcXJ/7CdxlBcDzxDpEIHEFSSetNaGwcQSxYQZSWkRdBWOykvEhcHkHzd7TPW0sXQbF9zuwtayNBn7IoFtqRHUHdYXu65ikRQUAweGEVJBhBuGC52oJDIUEZv7sbCvQoQfTetMNBTiNBnp/Xz/eLIUFkEXDe4jwcQaUqUy3gTiBBAZvr/3CSGUHtFtqvNqUZQVJ5MTpi4iFB05H+evrbHEHDEqC+5AIhQejbDcaNfyNBm9K5i5iqEEF9YEh3qSMlQaSFMArIbCBBwXPZmD0UJkHNMNvn40oeQdHqUy87sBhBJoPGkNskFUHo49egd4YdQWsiwhRWchpBONPERKQQIkHU5MUAr1wjQb5BiWJ3XRFBiMarHn2AGkHhV70sfWcYQT+WUustiBZBtyxk6vYjIUEbjD7XwTkbQeJzuzhhnSFBl5fVYeu3F0GRsBbUNVUlQXUqGsPcIxxB3i387X0RJEH+3EzD78ElQdsM2GyEPxpBvzzMee5WFkEhuVpoXQUiQW2ZvGxIDh5B1M2hAzzpHEF6Y5i197UeQXJnNC/cViNBtfnJmK7IGUE7sehV2ysiQXm4Tc2dHR9BveEcyLbaGUGGPA2bUEQZQYt8vf9d4yRB/LY6P8VaJUEyuEOViZ8WQcMZYmBcIRNBlt5NYxicEkG6OEq+wnohQauuaN3P/R9BXKoifd2mGkEi1OCjm1gZQc4GR/20LipBiYt5zvSaGkE30BV7qA4lQVBZZd/5rhJBbIT+Eyq6H0HF/zLFt4oaQaTHi+rTxhlBU68FHqr0IkHEkYvkj9oqQbYJuxLlmRRBpf6m4hLNFkE+TIaPwlwhQRJYGI6oxxtBCoqUjUxSFEGOgedu2SskQYCl0ZOVsRxBvyqOsjXfG0GrbHm9MWsWQWMgJYgN1hVB9iGEh4SaIkEl+PAcmZkcQckYwIs3whFBMXBRBuGNFEFWEAApfYATQSXs69HhnhJBU2HHKo5LF0H6A6nwZ5UaQQBdc7n59CdB+V9SMkxDE0F/C2PQchIcQfmIst+PMSlB/FfBTqU6FkGEE+0qrhEgQSmeIdEbZxFB3cza5hhnGEHB6BJuFWoaQe/NNGZP1RVBdJx9J152EEEJ/m8lYDMgQf0DDK9AoBJB+lcLlp4jHkE3sgOXTn0VQW7j+/BLXxVBUPs0MHq2FEEx5GQcHUUPQQxJNW22CyNBz2eI+QIOF0EFXYysStUqQV8aZTqpBCRBo1cIn8H6I0HCNZgx+mwkQWCdBI23DBNBjs60bG59JkFJRoumFOUgQVL8jqnqSxxBqFg+LVNkEEFthF06oBgjQcCazS7zFCFB/9EJ53UGG0HNthjGHAsaQQk0f5p8IRdBw+1pxJtrJkHm6HoBW1UfQTY1hFJjiBpBwXBsQ+zIIUFNIIHqrlApQSIfN4NZLh1BRN5/Pf8IH0GhvvZtDJAdQScGbuUVwRxB0ZDzQowwGEHto2O9zcsXQQV7iWmHah9BNhWoii6REEHDI38/I+MlQfXbPbjMYBVBPtGe3pB0FkFFQ00lUDUXQeAYPl4eziNBM1yzqtKMIUHjIsfde6giQerMKs5sFRRBgF4jlE2XHEGoT166Fn8bQZpnsoLk4CBBAp0WkRIEFUEJ8zI0U30SQfNQiUJS9SJBmOKhXLZPGUH/Y6dPmGofQThmBp8QuSJBFnIbzzl7IkGnfYmrRU4gQQ3QqvInkStBXcz81gfFGEEb18FSCDoiQfcKRTgbcx5B3W+ogWMnGUEwbBpWV3AdQd10L4qaBCJBc5ZajfwAIEHL8D30NqkUQRhAboMdORdB5+DPOBSdEUFWcevt/XsWQfDX/BSN+CdBx70g7n1nGUEhu5QtDRAiQaBFkFE3FRhBzDPUMgdIIkED5iHMhkMcQRPyKeCFpidBs8yfnEj+EEFJDeJq5UoTQQdnBXsRsyRBiNOAvE3jG0F0f+YhvFAcQeq+cflB5RJBa5zHudjBIEGDUuT7gYseQeD1h6nABSVBfo1ZvEYUHkFhe8VsxWcSQaLUIX2pqRdBnuGuFqmWI0H4yPNmYAkjQdpazV49fxRB9QiYW/kQEkHr+o0AGaYaQUVDPhx1phNBXnrJ6tVPIEGKllObdCAoQUQgT3g8MR9BM+oZzMXwG0HV1IFXj5shQZYQeSExGR1BySZ9drBUG0GRmUmXC4EeQZqMMOVuMyJBjT9Mkh7FIEFwh3r0AN0kQRmwC2d9Xh1B+4KL4EzNHUG83Ne7mp8gQa+mPOLJ5SFBDisoYCB3HEEM/t+AtCwTQd06IaC0cydB5JKDkTMqFkEpotlbvoMYQaLWye6t+h9BmWpjEgWCFkEjrUt75RsfQethJHEbpyFB4Ll5CpuFIEGdGYzOLtsWQT2qwsLAAiFBfIMJZjALG0Glk3RsEFEYQa0tuClLvhpBDcFAGE8SFEGkG/GRZmgWQdbdtN5RBxNBEbFDjoC5GEGJtE8Vkj4aQTZpvJ18ryBBzN2wx1D8HkEbjAOZz+wYQbovFUVeFRZBiyLot8G6HEGfx/INeKcYQaaMdWaEaBxBDOz/wai+EkHZHaV+yJ8jQSYQN5gyxRtBwv4CwARFGEE4TaoqbHkuQREfWN/fPCNBtyutEbbrJEF0iDu3nX4QQZvprLp45BRB89W3JT/REEEOkqyoaGIRQQ0Te2eNNSNBIK4LHv+DKUHQRuI9BdMgQZT063aEbBhBqQOsWoMUKEGwTRf4nZgXQYoYUDe1PhFB96C9PGysHkG5xMlomH4WQTNmtKo9UR1BXNbE1iuiJUFfnqRZpkAcQadjVxunORZBXDPtpmAlFEGPsQCybd4WQSja/2MVgRhBOGSfXlD4IkFRUTa5y8oZQcqxwG/3fyBBYfBBU5KUIkGQ56LnPnwaQbioM731gx1BzvKMPPkJEkGMoiD/9O4bQQcwACxsMSFB1BFkvEt0IEHlbvezdGQUQQx9NDH/vCBBGsog1sPJJEHcDzWrimgRQaLiXWMWYRJBaxcwfYD1I0Fu62e/CzYeQdLg4YkjAR1Bsy/zgmFmG0Gzu08+LAkmQaKJyiJW6B9BNRmTD1BDDkFREgQpQ4QUQW54mauPRCBBH+jJfzRnIUGC8jN/tFYjQbefnakiCBRBEDqIJvdZHUHRNzM1pBsTQafshrm/wSBBf+Q9aYtxGUFPe6rFVbsYQV0FvwQS3CRB7KI9BbXiGUHghw+yiuMlQVqfLkDZtBhBAZSRl9aZG0HXWnokeHofQY7tmARxIRZBDLnnjITNHUGyF5gNFgsaQTbdThD+dhVB7DSQtvWXH0EvQOGsTOUYQXYyI6HjZBpB5wXWFDEjEUHRPrtW1dEhQdBplrzx9CNBnPDaq2ZFH0GZgx00Yd8aQaOp1G3/bSFBHN9b9klVI0ET5GQc1jYkQTLS3COUVSBB2DYzDcTCHUGm8aYYmjMiQbuxX7t+jiJBIw0ozoD0GUH8ZTQuToEdQZ4fwyCu8SRBPItnfilpEEHqycyGc3sSQWOa90a9xx9BENNHopZ9IEG2w6/ZMlMUQUoYEZkMRxVBKFHb4dpCIUFPqwpCt2EkQYlre0VzhxJBuwL+Q8dVJkGCg9R/PDEWQci12LDLIxxBRypOsiSGHUHA9AuvDx4TQTvt8WuTIxtBN1MXeT0xFkEsWQxKDjoWQSsEUydU2RpBlS/dSormG0FWtPHtEGkXQaTlDpPAuChBeA3y1dAXFkEpXtqG1ZAgQbV6njkVmhJB1DPR/skOIEFGrfomNFMdQZBjbfiMlSZBKtDDpSAtGEF5SOACUFQSQWfu3GVqtBdBU0xgU13qHkHwFhfoObkcQUUOFaAz8BtBsY8IQ7AUIUFtOX9VLKEZQZgSSPEjRhxBzhmyiKJ+IUFOZ7fV38wWQfyIkiSU3RhBmV+Eap7zEkGS5S5geK4eQWCctAZLMytBjlIfvWOyFkGptCgXHDwdQar3U8GXXBhBsQkW/w3LH0HvZsYfydoSQQ7YmayOlBdBGmH8AT7lE0HLo0PQur8aQXulC/z1exNBXwHJxVWIFUGN+Zp2F8ATQcqhtGGusCVBFByJYVp6HUHLgWILzjcWQZSSuFGafyFB9mYRj4EeG0F3FtRNQmgSQTpj8hWLuRZBx2fn38uZHkGIKuKlbKoXQa/F8wCsExZB0JuRt+zcHUFTYK/6TbMZQbI+PRH29BVBeC/vKOXwEkHQYo2KLbMrQbssUcw/cxBBkculwNySIUG6oKmT87AYQflNaJ1NCiRBrYs4wVG9IEHTFFGnU1whQX6bwZS+NiVBQsK3mgIYGEFubp9OG/kfQbC0xCjs6CVBpD69L6XlJEEYTE4S/scRQZWkwKGlTSNBJ0zJoLQKIUGsptLcoAEZQR57H5kVziJBHG2QOFTWHkHFsfcFjp4cQXI24icXnxxBBWjmHfeBGUFaNC2faTcQQbyZUM33qRhBmeesGM05HkFBiLS3rCsZQX9pg4hZ2hJBDjiBXnNKGUFB0zurcakbQQuWkKkN9B9BZFzgkWmeIkE0IoPLbIQYQbiuNwT6xSRBuopo17kwHEG1F6+UivYaQQBfltdQZihBsOLb7R2+G0E9/C6tf9MbQVHMLNxVIxdB6arKD+UxJUG3Z2jZ2zIZQewHr0PJAhpByMAx0G0xJ0FJZUvpy/8UQZb+1nIy1yRBn/4BP+E3F0G33iuBUJsXQdMMufdkVRdBx5yOf834JkEG4P95kaAGQa4aAkeY3BZBJremgtw5IUEoFwPE3WoZQazLj5OkwiBB1/9Fak1kG0GJtMF12MIkQQEcC+8K3htBIHxQbDppKEGyahyv3RMgQSWFRoUwrRpBjhBlwpFyIEGzkT++5AUjQYsxsPJEhhBBUURZEocCH0E+OKDUGpohQcYIw3kRpSdBMZBtGbMVF0G1fuWeog4cQUQhHhpWDxVBQg/WQWWwGEErKeh6AOAhQR8BK6MkaidBEYlfckF1GEGJNUCAOPokQYyVudFd+CFBafgCLDiTKkFIY44JXwYgQSoZQj1jLhlBK1S24unXFUE2aH4Qt2ogQRkLlOEmCRFBCSl795QUIEHOl5zIQokhQenneRzu6hJBw+jMJwxHIUFoIaSIZkEhQXmCRDI9sCBB76yRibtLG0H5lsLnNYAhQf4kAOqkHyFB2E1iJX0XJEEDcqi7ywYWQVoOqEg9eyJBajhZMclUKUGaKh4fwa4fQXlF3+kO9SFB1GkXEthiFEGTMCIalUciQb/P9B0poxlBGwtJE1PvGEEckJOliIweQQKZUJrrDSJBTX8j7upUIUE+eiX9OF4ZQcuSdSvLbyBBUvqcLipVGEGyLbckm7EdQablQV+K/SBBaG7/qYx9IEF61EHXNXsZQX/TwIEfpSFBWjqle+6lGEHHFlh4sz8WQQRXMwk3zBlBlFySQ+ITIUH+KMSCeG4mQUAXzumYeR9BP3ytD6v1EkGlW7M9bIYZQQAZ0FW5jh1BSbsuWeMoGUHks1gX7/MdQcAvlED6vCJBj0wUGQUIHUGcR3CQJMwhQb/d/WbW2yJBFLV0LlMwIkE5vzS/CwMgQT+MAX/z0xdBGfHqLh/EF0GWR7dIMUIRQT8z9khHfR1BeGp2MzeUG0EEcYNAVhwTQcn9DCwLdBNBzgzEWaLeD0HfdygduaceQSekVtGVYxpBDPWYCHdOFUGv68hdtb0jQWpjQ4qJjBhBOXKX7SjnHkFbhs5HL+AjQbLKVzXRcRxBzmyGlduRGkEV/cFLFBAjQZyj47rlbx5B7E7iM5J+HUEsRgwyzwUfQb5EOO23BhhB9QRWMzjWIUE7PtNqbx0cQfOYcNQ08B1B4vpUZdV+EUE6slxCPu4lQTtFsoK2qhBB8+uReP3AIEESk1/0y/4iQa+kE2iVQSJBEcz8CHeEFEGnMreM2N0XQQzhpcFsPyZBbuqqSRREGUHgNRS1v30dQQCDrAx/wR1BWFXml0peF0GCQypDxzAbQfmTjfTXLBVBmz4Adfl7EkFuANx2eZAhQSd4VB6rFBtBujPpafy5GEG1C7iyb7waQZbat4S2UyFBP7Vy4VwsG0EfLYtuwAAdQTUR2bmFXRZBAe9c7TFzIkHFFVXoNK8dQSdICppbchZB4aXit6djHUHyGsGIYDIqQc3yfz8mkCBBNZbWAAS/JkED4npbwucSQagXL7W84htBxIu2o2ZXHkHjXK0x1r4lQURxMB7JyCJBmhmLePy4HEG/dv2mur8kQaY888eD+xFBwebxSPR2F0Gs8pjasO8TQfE/nefRRxRBqhXdIPtfFEEq1hBVnp4RQcUT8iGpKBpBitBbGlMxG0ECzSdPVhElQQteKQasAhlB0BgxqmsqFkEyXe5LvgUfQZvHqiB2fx9BTyAd1WpbGkGMMjJVvdQcQRWagzKmSyVBhTuDVupDEkFFM4MwxCYfQQF14YZaXA5B6XtZLKGLHEEYCYk/uyshQWsOMbXy5R5BKTO5YM7fH0HNZowOVMspQftuAyr4TyFB3N6pN/7ZIEG1jWboNekWQQL0irGfRR5B3mQlrIu8IEEyNjA49E4fQaOJ1EEd6RxBA4Gf3FAkI0EZToieKSYyQeEeCvvQ8RtBj1M6tQASI0H3Lkyz9nYbQUlys+jNdB5BcXJNmxoPF0FTd4Kg/V0aQTfywka4KBhB3yU+A0ZrFkGOOmAD4zAXQZcxfbr7ExlBSXx+GRx5JkEvLnQZlG0kQVApkLnTuBBBFyhttznMGUF+ZppUR3wYQSTMMtCvQBRBarWQDFNyJEHdzTtklAIVQXW+O3O6MxdBH4loXNH7F0FRCSN52e0ZQZ+4r+FRbhpBZAmmSeJBG0HFzk7/lYkkQfj4BSQxDCJB1hL4yoaiF0HaZwb3edAdQVt37I+EvSlBFfPHLiQIHEGuj1IqmMokQeBvqdeVSRNBqF0b/I/zHEHbmo4g/XoZQR28EobsrBpBj6v/Q+QnIEEJFx/2L88TQTZognbDAiRB+wqF/QnDF0HfEof4N2cjQQlPMY7RkBlBdAI2Ta23HkGy6aKBqDwiQV8nSmwFKBtBKHiRGJSVJ0EEQtL5Nt4YQVsoQXz3VxJBwbiVgm3DFUFfTywe+zQQQZOAlp4SlSJBj5KEbs4OIkEcVyiOl5MkQXoT65o5jRVB8+zFdSLPGUH8SlUvDcYmQW1FGZQLnhxBZamSgM08GkGCbdqaEPETQUZOsdclbCVBD8XU4f+5GkH2MxmuBAIqQdCnSeF48R1Boc8uBptRFkFlA3zWRtgTQfP9SZ85XR1BXDM4eBsoJUHFBEZoc3gRQSkdfGwNgB9BJ2bv/LvkFUFkHpAMjEgSQUl1rTa+kxZB+VQc13MTFUGb04me2GUkQSlam01CzhxBjpQucbPsHkFIzo0+ucoVQSz+lXwzihxBxB8WoQizGUG28t565+gQQRiKh9e1yiRBRoOzW1jfGEH1N0OsRpElQQD+eq5YUBxBM63QO+M0IEEeIUXwAiQVQUwvcLVgLyNBA9dIR28aGkFwuDjOAcolQe5mHCbnXiFBjEAdWFBMFUEG0KFxgS4gQXzMBGhO7SFB7qYjtEUbE0GyQ4B8JJsjQTOXs8Ld4hlBOekSuHYfF0E7x+KalUIWQbQ/dfM4bCBBsEMl+XlYIUE9r9H3u0AiQQe7otr6ARxBABBxz8s+IEGsNX6QW1kdQcx48v0vExNBvdqJr/lVFEF8Hzmc2r8TQfL0HInxaSFBQ47ZTkldIUGI7iAbhqoQQc3PcHmmNiBB1piyUzScIEHoM+/kyrMUQTNB6U6cXCBBZYDRszu5HUEUYMo/P0skQdFhadZ3yhhBR/bNqxFvE0GgIfezYTAUQfL+PdpNQB9Bt1pPDB6bGkEQj9aFawsXQRmm6sabiBxBstmiYn4HJEE/bS83etcgQX73t8kV7iNBnv87CAjjGkGdveeNrZoSQfxti04lbBxBFpvTazGoGEF+pg5iIageQRJcHBkoCxpBDAsrn6YdFkFfO0QWpx8VQW5PzgvbRiFBvg/m39HLJkHHVh5WIT0dQcONX7cDKhRBrN+ktOMIHEGB87aNaBIYQRxzXXZGOBhBuoGU+awpIkHDUC9cYkQnQc+UTfcjrRRBdRNKjjnDHkHeoZGWx+0aQdbbAqMGthdBgoIy8GaoIEGO1UmJvdsmQZp64eFQoB1BTYAcv0wbIEEsPRO7dhoZQSS5x7n91yFByHTpvbPBE0GoS/m8/BExQTtKP2LhCx5B4WOnfUr5HUE/AS3J4QwSQbv1vDHlLxxB83fPjOcWIkFg/U5+dXIjQSl2gq6NPiFBJB26rwGvI0ESWlrdRR0YQbdHSytwnBNBVJ/xkU02E0EmiznxvW8SQVL/3lPgNRZB8nymqv4BIUHzF6jzAm0dQSj5wQxBbiJB9TwFrbPKIEHh0d3bXzAiQShHrf0A9BVBQ6ZLCxTBFEH9g5i1SEYVQVg4V1UkJxpB+kUgywGEKUGvC4IVfbwhQfkPbqYWTiJBntVv9UrdIkG+DcfOQyUhQWbfDJ66YiRBPV2VZt1FFkFf+tjvp8QWQaRzihbNdyBBd54S5CApH0EJzlqG+wgUQWrfx2xvFCZBEcg9a4fqJkEnigjyfsEZQUfPOeh/6iRB1irWQ7lZFEE0fNrgX0ERQapGZZ2uuxJBvEoSVgxzGUHV+fYaO6EiQS+/Vj0IwxNBpjwI3XHyJEEBzb7Vz6YhQVuW+4QgVRdB7zPDl4fWHUHUHH9LgUkdQfZYEhOcKRhBTNroT+Z5KkGRDSjOlashQff6F+BpzCBBYl+9ZSkbJEGYvstptMwWQRrVN/CINhJBh5flNkkcE0FDTD6mkH8iQXeS83NfXiVBFZBdpVpQHkHK1WgSHCMaQdwTOYN8eh1Ba0fJYIfLEkGCMumCiYAgQQzNFApmPyZBusQp51SQGkGR1WWPa+QbQeUGLruThxFBKfsGLJ6bEEHEQs21bFsZQa+CxM///RtBfo1D90OnKUFjymOXre8aQaR/fqI8WBJBLXLr8IbrFkGWPY2GNqwhQcwwEkhGgChBMUyjqSPWG0EGi/NgV40kQVrcr6TpuhpBSggZHwL0EUGG+U9waY0eQWrsryx0RRdBdQnZwyTPGUH/OxYfUqcdQeuigPuhBRhB+WR72Q9FFUHn4ygWQ0QXQYm+bFJsNBdBxImBf4iAHkHg0ppv6nkeQcRT81KaIyVBQGCX5PwZIEEMSr+1x0ISQfciUPDYThVB27bEzAVrHkGsBHSxNaIUQZUDWAdRzhlBl1TM17r7JEHVoBBz0+0YQXEBEMABCBpBoY4Av/uQFUFpC0k4lowTQZZrHnVDsBpBB8PbDyXVHUFnxoNqDgYeQeloTYtRHx1Bk0fnuTaFE0EUhrwmMgcdQXsVmIMpthRBW2evQV6qIkHRVXnS5M0eQYDrFh7lsSRB65qOT2mBFkFyb5G5UbMgQSUHkJA3cBZBJbtWtvlfEEGMXV+QQ3gSQXlIWEiceiBB7yZUeOkQJEHhHYQlRggcQRAuz6BaViBBnhF+bhgeG0HhdC+/g2seQY1Nk78oLBpBCBVfJJcYHUEtX0DccKQaQXFFIoeIBCtBCnA4SozkHkEHi1a2isATQXcPwUeWKBtB8lLGoDycJ0EE1MineiQbQW1zo0NGaCFBjy17/DOXGUG9P4srvwwSQZQZayx0fBRB6pLdiBruGEGc+XrDtS0YQd+NUSnqzCJB9lvvFuRUG0HEXbyTon0UQbHWxutrmxtB6DDmW8IGEkEPEsntoWwcQVyfKhg0xSRB8s2d+A67IUFJwDgAPD4jQemZjQ9MBxpB/fUhouWyF0F2PK9LEGYbQXre3k0kTB5B7agZ3OzuF0HweDkC5c8aQa0E1+CpkBVB0Rwpn2CAIEHN6N+0H+kZQX1P/6xXYB9BdyDZHhE2EkFe7PxhK3IXQTZJ30ns1SNBS30Z8t/dHkEoeu3diPshQViYywunnRlB+nGg43FFGEEgo1I0FYcjQYRsoYGcIRpBdH2gWqwSGUGnhuqgVmwcQZzWM07OtylBXlwqtM83JUFWW8hPSOATQTDg3ha+nRVByP4ue7WYGUGdyycVM2gbQUuz/ARCfCFBD2e9vuP+GEHG4kPt4tYfQVrNE3AqhBNBPeoW+Qr/F0GZvjeGeGwqQbCBqafOAyNBGd/ZC/JvJEGuWe1gyZEgQQdcmJLeuR1BCcJRjbMOHUGh5/bQCEwfQTsobwqs9xhBy16UEWsVHEHNqlKPiF8hQfLPkW8++xVBZEWfgsjOIUG6GBH8nxoUQVEeiPkKhCBBbuQd2+G3F0FUXyJs5G4ZQX5TtaIhMyFBTqVT3J8oGEEsiYpJWcQqQeQgn/iosBRBeCng4sMNH0GZzhze33glQf24T6xxrBZBTbkarvDDFEH0J6FR9GsVQd6uPjDyPyJBoBkGFRJdF0H/3RJcbLoqQWhoGVkJhBhBtW7ZFmR6EUEkMReR1KsfQbogaZgCmxpBXkovfFcVH0HqabblXOwhQQb439lWwB5BXPNpvpKcE0GMRqjrN+whQQ8+jXl+Vx1Buzr2Cv9/FUFQsBBnn4QeQdECTad0eiJByZIClqi4KUEVhAdYR/0XQb9LorOvHRdB6qdJQ0hoHEGc2FxF3OkkQfKsbOhw/iJBA7987/0GIkHNw2Z4g/onQX/dySvZchRBG45zSG9THUGwKBuQ2jklQXi2zviK5RFBWjVlzGWIH0EmRc8nI34YQay4anMnAyBB0LWYV/EsG0EG6UBh1VMiQXGlyJn0/xxB+OHfCgDLIkHng9lHZ+YeQRsGBzh8CxhBgs02PxvzHkEs78nCnOkjQRMWpRhTIhpBnVXRzOfcFkFSxtJcbM4cQQZLSbcvhhVBsXFQvZaAHUF5zm/4qxQYQWAI4qZ9+ilBPATHg5Q0IUG/Dr+mN9cWQeP9DFNchhhBmt7+berlIEFs5habmGsZQcBBbWS6JxpBBdjpICvRGkGOcG8G5jobQQzUoetY5yFBhI1Th4bgIkFZBepQjxcoQa6YH5Q4phJBa8FZxWppIUEbZGTOdb8UQe6RSKxqBxxBSRkuvYbKJkF40HlHdtURQUePfp9Nky1BcPSYttdVFUHvTdP1/GAXQY91FMY/fCFBWW+je2JLG0GJW0VWPt8WQe2jAgXUThNBhhlmcHfhHkHyl1RbzygbQaJQderIWyJBFZiSR4D3HUHRPYbEmlQTQca7qpLoByNBdeEGrvQaFEFwy21AUW0ZQfhcdTTtgCBBrk8VIh8/FUGEvYJawjMZQW+x7LBPeBNBbpkUSLwBF0Fqqvx3cwsiQWUjxl5MzyZBxDAZCE+WHEG15D4pLLAXQf4OeN+jnRVBl9VM7HKwGkHtoJvG1VwXQZCdqVcM4hRBWDR0nNDqF0Fy1dJoZ+kjQW6Qw3WWMhdBPOpbyjmxHkFHivU0ZawgQUZTiW1gkBpB3bCBc2O7G0GI5GNpLDceQcXIm2ihOhhBOkhZoxhvFUEU9VDUxRoVQfu2AUiNmiFBF9O2mTPFH0G4OS+Jmk4jQQFz4U71ThBBhoKqT/bDIUFVwwu4vaQhQdUkK3HdIiZBcxLP+L0pHkE3Por/YwsbQUc/KMbzvCBBiufjYhFVGkETQ/SNuQIhQUv8CbWJaBtBnvMz1w5SE0GYoVOz7wUfQWIKBIEVmyNBsGlwhogTG0GyYoZe24wTQVDMgjhb7hhBbfyUwRL/H0E+aePznwokQZq1LZZVqBtBHPujHEN7G0HedEkamhchQQ9fVTpPVh9Bh/JllhODGUEQfedJsjUXQfGKK9bDSh5B5vfM+jA8GkH5r/PD+TMUQSy6P3Ms5yBBJV+dii34HUHzM5qHbQcTQauo51BLsxtBc3WURQJ0FUFTdeeHvLkhQVvGeHDI+xtBErGReF18EEH60NKn2uIaQdW5uZTXMiVBGlvgW0YDHkEPqCZiwwsiQVl+9vd8sSdBKOjaQ2zKFEEpiguIuEkiQX+kECj1zh9BLP486kJlHEFFlTr+66wcQUofDXDaDxVBM4XmGqJ1IEFFHyVaQuceQYLdo9k9vBpBmTxs21EEGUHH1VJp9zsdQYpB5JG7oxtB0TE+2IuVI0EPaauMsYMnQU64pNcPaydBZPvd3mGtGkG1y6UyUrQWQfgf1tElFRZBrSzJi9iaEUF67RY/+wofQd2yLyRbnhxB/e5rwntyGkGtMWDjCpIcQYAd6BKOvxtB4msCghyCF0GN1zB6+o8RQXdj/TUHbxpBimox70SQF0HrXcQpS58ZQbw/9e/oQBhB9kb/uwC3GkHuPvXriAEeQSH0jBG9dxpBKP2XepI8FEH0eGHn9R4bQW5ovbtyhiBBDXBYMRc/H0Eb2UgaPV0UQeqZ8zEQdxpB4XdGljOzH0EjXB6GEd0mQZQnm/HLsCNBNE9Uebe2HkFY1fiDFdUaQVATma241BpBh9itNCHXGUGPpDV1nOESQe0719tTTx1B5VQBj8e/JkHy3/TSROUcQV7h3GAIGhRBlrmUqRc1IUGSdto0ZLMoQfYaRiKQJyBBsP7SRJlQHkGKKRV7KrISQeXFQ8tTECFBonoOmD3vEUGH+djNrJESQeXqsLfWRxNBMyqWGZD4JkHYSenVTfApQQV//rC00BNBRMY8W9gwG0HFaPqk7iAYQYaBJibqeiBBtJw7Qk34H0Hmj2KkQuUgQYDZPUFCbBpBURGqWSUrHUGJXgQwew4bQUGCw1xR9SVB0+ka0S27JUEpvB+e1ZsgQR+69cKY5RxBMD/AvviGE0FJ9SIatokUQZayZbdbvyNBmoX7/B1wHUHngZjjx7ESQee/GTRtDClBtXYD+IYTG0HRalv5FXwYQR7b0GwSchZBvCqxYYsHG0H+fA3Bt1IiQYNq73z+9hhByPzywbJ5IkGz9mSORLUPQfS3rIolWRZBeK5XQ7WkHEG+vdXW7IobQWE9kRp5vBRBrhaR56IIGkHjSNir1UsaQS/2q8gDUxVBcW/E3/4eJkGvKw6WrJ4jQXnKZshA7hhBe1ID/3w8GUGcSfvZN/kUQcIjikVKeRhBVLSNZ7zxIUHr2nLkXFAYQVgO6KqpCiFBmFCfaO1UF0GZx2LlrYAjQQfuaN1vHxxBZXSXylzbEEFkKT1vkrQUQewgnVIKRRZBHYu0omxkFEEFovZs6NYgQVN7eEBdABdBlyd4hBh6FUGjrm9zxZwhQQ9L9ninhSZBOqKFl01qKUFYDcuRbRMmQaEgLpjTBxdB48DYnX8HI0EOleiUjB8XQUlbsMHxlhRBr+ZHhUtIFEG/K7XTKTgWQQNeePteISRB/QggA7VoHUGjvnV2jGUaQTITMHCU6CNBvYA+l+mpH0FWZj164YQlQdV4QIW0Cx5BFPdL/4XtFEE+jP7bTBYZQadkO3/wPShBKt/d7EXgGkFcIP2S61sVQdKbtXrbkhJBO5LvqKw+HkGXlbiRdgsfQcSBgieeKyVBZCavxJH8FUEpW/ZNuaEWQbfu6AqFkhJBAi19PoEGIEEHh0+uMGwfQcsNcj3jBBpBuUfmBVptIUHzUZL2h7ctQT1ljbYdKBRB5IQKDwKxHEGMg0et7GgeQX4zYmUvWhNBe8zMjFOUG0FsPtnOS6weQYQ7KQoGTxxBZvf7DpHXJUHAyfUK+FAiQVQem98jzBpBLrnOas3THkF7gKZl/W4bQdJdz0Nc+xtB9zyjBEbvF0G8eg4OFzkiQfVe9EtGuh1BEwCKw4b7GUFrbV0u8S4aQZLSXxJbtRhB2djZGI1HG0G4efzuXnMiQWo256I1zSJBFpk1pcQKHUHtI7ks7+sjQakqB7stkCFBpdKMnWZuGEHKONknqK8SQf2GvTR9VhlB0sYqg32rHkHNYZoPhcccQZMy46sC0xlBgVg1w9TBFkHRke9xH00ZQZ0aPuMIECJBrry6LQO4FUHa5bEPUY0gQZ0zyEpWfxpBG8We69q6HUG9CDmjx7QbQdK2cZsL7R1B4/kZAzawI0H36BuuYgkcQaXTFzBhaShBLROl5fh6GkHhSkuhPyUkQb/eIRthoSBBMUhPbk29FEGZ8IQYN/QcQYRSZ5ckvhlBzbzyC+knIEHbqCWpENsWQSVHNNd3TyBBSzWJrFQHG0FYS9xRVLAYQVnTglph7BhB0AVZDomgGUHGD7OFg0MgQSRi85izLRxBLhzeuKHWGkGjmtP8yZ0WQfV9gr+wqhBBN8yMwN6DHUFLT9rhQiQYQdgd08dKqyZBjaJHszAGFEHjCEPlDT0zQcgbqCcdPx5BcrfHib4nHkHX+Ec2+3YXQU2wU/tFxyJBLWuAdNj4HkF3uAVsfSQWQeKKOv5OxB5Bxkn4TfBvFkHIoLAqMtsWQau3VqBAUBpBJlTcoCIdKEEbcaVmCOQiQXI0NWLWLR5BiScUEXdNGkEU/S/KzTAgQQoK7aKRvSNBL2DFEA0vGUHM1dLx15obQWMngdpK9h9BUjYuX/18FkFxCuX1Ek4gQTO84dZB3RpBR6itsV33H0EjK/F/YLMhQfoVlbgk2xFB0JrE8GuSFEFBWFZymxYbQWhCYqDJTx5BFeHBnMQ/JEHfiDxqE3oRQZoyah6x0SFB2SAHDSs8GUGZ1oP67b0ZQYg+oneDcyVB+ue7efiqHkHR07fVOjYmQYJSdBrBXhhByiYL7woyHkHGcUlipxoeQSeayozgoRtBCAOBkZ/tIEGOJZ21LzYXQdxbCCSmJBVBuHPcko9bE0Gz+OZtMUIZQVK6a6ubvRtBJMtS4SeEEUGjUkTRO44mQZwKDrdJZh1BuiMI+DiII0GSm04JAjEmQaZECCmwpiVBlEbgCP8+HkEXQ7h62QUhQd+/fnwLthBBLrCVVjnBFUEOTxr4npoVQSyDxnQjHCJB5hEHZqaNI0GWWr+vwocfQXuW9Gh46xJB1Zjy4iMiIUG6TMGn8rQbQVNp1PTZTRhBsICwYhhfEUFvUpVh8GoaQb93tYRxViBBHJoIU1vFHEGlylsRzXsiQZ+AcTM4YRxBtHVp102vIUH+sd0XQwsiQeUuCSfT7xVBYy4CkcKfFEG0d18lGm0aQVdglBB1dRVBtNubsYrfJUHkXXVh7r4gQVzqs5Zt2RxBQM17iBfWF0GxJ3XsQFEdQW2cWwtxnxhBc2Zj1PNBH0EU24GoWqMhQXzRS/nKlRRBYW0lqIQEFUGMlyJF9G4YQXR56bymCyBBsu8UKio0H0HsCQoZKu4hQdOMF91ZzCFBnxF3dtveGEHN7S7HJp4VQZiT3hEwiSFBiDf1KVddIkF8+30oZaUiQcC6n3eeqyJBdFezoeEvH0ExkB8OTDMaQUIjfEMqERlB8tzxumzJGUGOQHPqHCoZQQ6TnGjTZxlB0rzD73RBGEEPjmTr3Z0mQZ/TSZDyYiFBY4ldv5YTGEEgaJ7zToscQWxwp9FquxNBTRcqib49IUGiUeHOZaoUQfkN7hBA1BxBMFETZAdBIUGWM2H8C8YlQaXCREAeJBlBnZzcVkNEL0H+sSdvVSUbQSwJcuInpxxBjiN62o/9JkEPQhr63xgSQR1MSH9asx1BeyBVncrBHkEQV7kG+44SQRnbyeO6hBZBoplgt0o4GUH+6oUknSohQYh6gCsiHRlBcNn8BeneH0EusvmptyYkQf+Zyf0idxpB3o/wkbodFUExyvaAxfknQaWveGLAxh5BTqCd0qtkH0FhDTp2+BspQbmvGY9uihpBv9I9uD9QG0GoBKUeIGsfQT/SzS27eCNBlQgHBdQbI0EJFU8UVusVQX1blLdD0h5BBMTzF/nzEkHOMDMSow4iQf9GPykS5RFB8Hdj5VTREkFhGa6TfL8bQfXLdQKhAxZBj6K+seBJGUHQHy/0dnAVQSZZkbbCgRlBhwLTcoR2HEHXAlBjauQWQTe2OTAaIhtBu5v/uKiTIUFDTMbNjkIhQRarlVByhRdBGmvsb/ltGkG9TZziLfYZQWwxnZN+Yh1B4z6EWwkjFEGvTH6y80sTQcNeeiQZWiBBI8MhDQfyKUHbK91DTUcXQQ/LKG/x4SBBQ7HRKnUZIUGmhr99JmUcQaBINQftLhNBIzXY1ve8HUHbRtNn4gkfQWN7uOkoxxNBnQf5VhSQGEG8GJNbEWIiQfydZmZvsRRBBnb8ML//HEEhk0B6YE4UQWjpIkeLARVBOG14YCtZIUFE9ljLxREdQQMbRLWfhhVBRUKjc0GTG0HEiDtPWRYkQQozVw6YXyFB5QGQz55PEkF9t5KQFdccQecef6oKeSFBvT/MEKn9FUGeeTcpF4MnQVqzbpJf0BxBZIJG2rAyEkF6pa7B+R0gQeFjJVDvHRlBX7LT6uukF0GeR2gTbisnQW+SIP571RlBpCPo5NCBIkHjwakOy1APQQsyC7F7CBZBoB+f45TuGUG2bBHe3CQeQe/EmeuhrBVBiTY5phkpIkGQkfrYgVQgQU87gK7WOxpBfWdaLnGCE0Eqf+u6l3ojQUq8qceJxiNBqRCgfAdNHEHZYPRFl88RQctCpPN07RhBQO0lToeDH0GayalRSb4hQVMoPw/x9x9B6r9QLtbRH0HcpyJNzIoZQVNu7cZ9EhhBH7t2jJ1YGEFcJlAXYXwaQXWJyPN8eBxBbR1OMxhrG0GrfbK+y2YSQWr5tob7KCRBd51/Dy4BIkH97WI1y0sgQVIiuzQmBRVBk7mMLJtCJEFYLI0kNmQXQXDL5qVRHhpBi3/A3GDMGEEOyCDBy+IgQbxXniE1JSNBc9cf50J+IUE1uZ+4S3MXQcEuUimfnyFB+FfTOo8kIkH7zvW2NjcaQWpWFhZJpxNBLdxSjfj+EUGISRt1Ak8cQaeA+s07/R9B9nNAEOW1EUGscsIXvOYXQTerU42GDhBB55+VrgwdGUFcNhN0oQUmQTN//hOpkxdBHk3FFd4YH0EZx71LX9sZQQJwqvNHFhxB4G9Q7qRCG0EPCRT0QlIXQYbAt5zFohZBAwjECVxPGUG6XPGMqL8YQdOlTeOMwBVBTC/CVjN8IUHESb0aIscaQYotoXR5oCBByuJHfW4ZIUF7siunDqIVQfNSJrlcsStBX+x8sAfKFkHHobWyxPEbQeLhhdeXsBxBtMOI7xZQGUEkN4qOxqQcQUw5eSCzuydB/9G5e0fcF0GfoEKHb/chQYAQ9D3ZySlBiGtGRcqpHEEO5Nwp1QsbQXx7lJtwySJBTkmZZx/4GkEhCzpNdh0ZQYxcpFsFVRhBqn/P27LhGEHY+Esv8WUwQUJMwBTdNhRBQhq7ciDTKEEOdTnSDeMTQZT1Vsh4AyJBJChWU9SbKkF/ya13btUdQbsb7zZ0ECBBZR1GussXIEEnY5DJe7YQQW3KZjVkGSBBFwYO/H4KH0F0Rwda4LMoQeLSt5+wvBRBAdFRq2QlHUGXVzADogghQT3qkDM0TxVBS9d/vjfqF0E6TUycdhMhQbRZFPhF5hdB+Axo07DYE0F2f61cJV8lQbfBpNxCiRdBSL3G+KG9HUHnosWmqJUiQTkmwEYdyxxBrAmf5mvwHEHa3ynPNYssQbib3euHQCBB9CYlD6bnGUGNLN0n0qkiQeUrmyjfLR5BWaXPvSQwFkGVuJApl6sYQSDqG3QMWCRBJ4wWIR3xF0FzjxHzNl0mQbIrwJKfqxhBTNhDR/5eGkHNzlvnoccfQWtldS76gBFBzWo/OAGZHEHYdUxUCngmQVBoLgroUCRBxmPpRSP3HkGSImTh1y0UQb3WbOXlFxxBbIBFJVdWGUHNyVKKsHAfQWk6gryUlR1BTpcPG1w0HkGNxP90zQ4cQdTE5TDLTyBBsCGAgrQ6JkGWd5SK0LAgQSWtu4hyJiFBQ1mKhYA1IUEMRR320tIRQUjpvdsi9hJBGnVLnWDnG0HPKqJswHAbQfm436ekUxtBC2YMq5bKHUG3Ru3m2H0gQbjIeUcOjBRBG9M273qpIkEkoE386FggQT6WQEngpRdBaO7EBoBxFUFA1GiUG0YeQeK8kouGrh9B+qS9aCEEFkETpiFKFNMnQWFP7XAzQRdBZ/XZrSC0KEFDjr2MVs4fQeQNV8lUCh9BgdW87/7uI0F4pPuxsMQbQeCiT6LdsSJBHxP9VKlzIEGgvbocvEkWQdHbVrNq/xNBYT5LKZjOGUHt85+HA6MZQVOYGRuKtRZBSApI6bdpEkFA5QufyXoZQTak7orsnRVBKbEhQqGgGUFt1xnNhYUlQYvmvm3m8RZBmuxVUuYXJEHMA8BWk1oeQZ9TG2GqKChB8e7/9AyMHUG/JVfn8Z4bQcjk8VBo6xJB4bND1vBEJEHMRfoerJMSQWLk2xdWnh1BKjp4ItJvFEFeqZ9bTvckQY1n/h9u0CJBPv7kOCFEGUH0PnMX+l4eQSo2ny5VDBJBdYesMmbXHEHr2aE9DgcbQZ4nuRqYvyFBnABH8lMtFUGtOVvINBYjQZjQF4rjfCBB375mTMsdE0GBl20K8qMnQRoBI750CxdBorfx5gNgGUHvywwjMl4iQRfMJMcoNSJBGzQtp0p/H0FhvvkV94kjQYfNtxANjxxB6zqQ5ubzIUGshdauF18dQTMaDta1vQ1BJaaCQ3iJJUGd4mC6yhsZQX28trMmxRNBNUE5qT9/I0F8mObjOOIWQQQROkPe/iBB+Y3hyMAaIEFa65aFGd0bQVtsB7f0OBlBPWhUX11dFEERYQ9xxJ8XQeKqj5FCWxlBfcjnGBu0IEHtIiIkwuQUQRkO2oKrjhdBxNLE9YhSIEEBSouqvUYZQTIufkGZ7xZB37I2i6dQKUH8hVEsVI8hQS6hS5p0Yh9BT1uIA68mIEG6W8Sm90UhQUpZxKdCcCFBvgIZ0ImVE0HqkrVIPDcRQZaGM7JLMxFBjPywf3ESI0ERkDwyGScjQWBEDBEKFhpB67gcLbn0IkHtyNQsM7UaQfCsWyi9EyBB0VtI4UHJEUF+kYPz0AMiQQPjDnwH8RlB9XcrjaqKHkFzEW+ehx4YQbMqJ1aCUCBBES9xPdjvHkFCv2AnHagdQQx7H07TMh9BEdsC9kV1LEGdyeR5lk4iQZfVFkjrLR5BM1irdQibH0E8MKqh5TMUQfHl0GetlCJBw+MQccLYGUFIn7toCV4eQZwbCVHLKiBBC5k56Kz3IkHFqDS6POglQX61+yqUrRhBI1d/i7igEUHBCOPE2yYSQY8qjflCeh9B2u3g5JyGGkG/lc61u9QXQZOfJzLOyyRBmcX79DZYIkG7vEfs3iogQU2sPzp+jxtBW0sQBrV0IUERMDce0PIgQdleXaANnx9B55eVrjWIEkG5/v8d8YsiQYjPqrmTLhJBKAhGL+JsIUHwocp9PCokQRXS90ah+iRBsS4mlcfAEUHgSun9XWQRQWsBpLCZziRBgbxJvyAdJEG4p0q+jGkgQeiKJIoUsBlBtpqnDno0HUGN8kbNz7kfQZp5pjd6PhhBT35wf3TbFkGnZyIoQfATQa4opAykBxxB9fjNocpfJEGgSEtrQDkgQdHa3XwU+RdBe4AtI91HJ0GJjs014owVQYu6TOHRuBdBiQfRj2Z9HUE+QGDlwPoSQQ8h0TZJYhpBXDou5gvgGUGNfXbO4fAWQUGCw9o72BNBzHPzWpR8F0Fy1qG6rwQgQVRu8DvHUBhBjHICDbRiFEFxn/mIUeEQQdtXNI15/iJBX1bbHSYQH0H0NWsaR3USQaevLIlyBCBB9/+iSPsjGEFS+xweX7YUQVqV+7PK/xtBmb6kqFHxG0FbjSas4+ceQQFn+hWX/RhBFkQpaL7/EEFc5kbatJsUQdDsg4+74BNB4BmryHfkGEGHAzzmCx4fQTGF99HDxyVBZqraCf3oIkEzhBx15xQkQez/kLuiax5BwrMzez1hJ0EwfQkkR2opQQ9nn24iGxhBlWsSnhaHGEGNiERpeKkeQSBW+J5ZeRlB13yLgi3DEkHdSowwXPoXQW2r9tDFJRNBYJdVMssqGkF3DGSk5LwiQU1jPaM7ZR1BvfF7Cv6eE0EUazu7thgVQR5cIACfkh5B1+64HbHPF0EPcO8rUOYkQWxcBiuyQBdB4u6eJUkGEkEh4RmtujwZQSABhI1DZS9B5N7GjazDGEE/LIFalfQWQVnAwi160B5BH8nyGLOuH0HZFuKn/t0iQZCs6Nq+ZRxBq3lN6J/HJEFCjdW8Vu4gQdSy38uaZiJB0kAgzkfuJ0H0ISCUyR4iQZIsuxaDeRlB1mDUx4rkFEHP0rFLM9UdQajAKonC2hpBg7TqkHByIkHgHuSAycEZQZ07f5waORtBDiLWvtt4H0Hu6VW+Ao0ZQSXWcvQERCBBe6z2do78IUHnsjr2NC8WQWZYAVbOoRFB6ugvGfMxIEE07MYNUyMQQePA45DO4RxBiuOm/LpIIkFhOvf31IUhQaIbFCEE8BhBa7n5ujMTFUGH1BbpRB4gQWmWF81+YBJBdQ3p3Q8ZJUE+035ChcEmQeX9C9gjDxlBSltbGckYIkGC/6GDtQ4kQeg2pVwk+BZBgjDd6r2jE0EQkV7vMosSQf10f7qx3BtBsvbYPpMSG0Ga4wJNXkUpQdmeDi9pAyFBL4y3lbjFI0GO59gXXS4jQaTxGZY7cxdBGm2xecKjEUEWvVFoZdIpQVtsva04kx1BJa+hPnWhEkGs69x89TgcQUD3hYFOnBpBy3Xc4wZtGEGMARPpoFESQRZNUO2WqCFBhsm7E5VFG0FDNFC0oygZQWFtUn+5gSBB7gOnGaeRGEEzzDEXhPQjQazH0mpXAxpBahsi9pQLB0HXyOAlaFcgQUnXk0HU6SFBmMyIBMLtIEFucvOMQeAaQTC8RysthxtBk09zAlQYIkFgk9fGEr8bQfpCJ/ey3xhBY3iTWun7H0GAnYM99GogQVCYrmalnhhBQDzsujp2IEHFj576qAERQTOURNfxgCFBSxJQWj4VJEHGw+QD7W0iQYx1KDeVESBBnrOJ6LVCEkEfWfwl6uwgQcCXycGYaSBB0myyz9/WEkGsc4u+6VElQT1KqVpFgB9Bv4CQr7bMFUGMNJz05iccQQ/H0tqddyNBHzUNF9y+H0GcBivjwFoUQXcSD1mPUCdB9EvZ7uoBHUGh8toIfAIlQbOrK9IZgx5B5JMn0rTGHUFaVc6FL14XQT3c1Z2jGyZBxDgD+ihSIkFFcvRYfKkXQVKpayIdiBxBBHh04jg5GkFgWjrJZTkYQYpB5JG7oxtB5uVhfxmrFUE/UBI2b2QjQbtY221f8hRBoRJn3lL9F0FIrmJ/znkiQSM5SjlGABNBcZl6qGT4HkGSDUtClyMhQZeJyt2hmRVBAhEUXIOIJUHStwmYlbAgQW06pDxDGhFB8+NDlf/HGkF53Hfu9eojQZta2k+DhiRBa63KDUSxIkFdorgZynobQSF5fpSS1RNB6K30FNpkH0Huvf7bLvkdQblSYPgKvBxBmEArLPRgG0EmiS5fy9opQVFY1Bc1tx9B6lEfMDkAIkH47Zg7/hIbQXjM9G+ivCBBObXnh69DFEEDQ9DI6pkdQcqR/P6McxZB/jq9hM2gIkHfzFWQCdwWQSoPGkDT2B1BnFkYgJFCGkE/9I5x2qkWQemFPySTZSFBZxU/9UM+HUEtPx3tFacjQTEmjYRruxBBe6UCcB+1EkE/SqbckJIhQW4Upw1MbB1B5N9UCK3PFEHsVLV+88MaQTdG/5k9OxtBaWEv6WetEkHzE9iW3egWQfymCieCaiFBe3HuXWo0JEHQyWGt+X4gQXgIlEYc+xpBK7T/F2HKIUFGedcNZpUgQQzlMbi/0iBB5r0sIJNXEEHblCSzYpwkQeKzexDZrhxBscuw67nSI0EwtvDFlkkaQT6n1/Z7oBhBbFIt3g3LJEG9oQXPjmEkQUua+NjlJxZB4NRhDptzIEHxSPCfjQ8VQX7D6KvrKhxBYBM9gENfJkGcREzWlcolQTKINvsUiyZBpbpMLzwmHUHJ+/TAeg8pQWIlgessfRtBMeJ0NTX7IEFobF9TaTwSQfcy/UICRyBBZBUCrtP8IUEiXvoQUaIZQcK1ov1sKh5BlJ41m8mAIEEOql8WUnkPQXYY0NX6BSdBZyH4AQ5IIUHzhy+ffbIRQZHrgc3fLhNBTsy5clC3G0FDBaU4paMbQTT8lXgg5xJB5zFL7iiRGEH0dAljATIgQZIUg7ddGSRBYWxVojrfH0FnBO+gR0AUQf2nKX5+DRxBeF3P7mvNEUFyaHBVbGgaQbjsbFkH/iFBOQwvmwziHEHHJ8nZMw8gQYgZjWUU/RRBkf4M4Du8GEFFEDJK8rQSQb6M5wWDDSNBSwBwtDasHEF4WNN9fpwXQXfG1YrRXxxBD2/Ow231FUG/GTrCMn8qQThoGF/35xFBtCLiCoQDGkE2PDJxkvkkQZp5+h1SRhVBFEqMydvSIUGEqXvZw4shQRYJpMOOZB1BxC2L93NjIEG0BzOCBL8YQdVxVcwB+BhBtUasehJmFUFmL2q4RsMxQeBqE9f0uSNB6Sx2BbSPJUH+3VO6JtkaQcadzx8TqxVBwN3LmSteGkGA8Sa1OfYmQc1nDO6HuSNBT4Gpe4k8IkHheXf9dvYSQci6pFlZnyRBwgTTYKhXG0FoFbOLZTAeQadqnHcgVSJBLY0pGfd+IEFrRNfTQH4PQXr6o6LalB5B4CxIlwMFHEEvih0x388VQYjaL0j96RJBRSE4JoLWFUGr4sqqcBAXQeijNEsRsR5BOm5BbwYIIkHP77oSBuQhQdDjQ1yKhBpBw7duKIJWIUGu436L+mkbQaklPfxb5ShBsSmbB5iwIUH3e/hjwUUhQSwNKv36WyFBcBMXz6ZTIkES154RP9AaQY+4ooh3ziFB0RhYRl+nIkFCyHBoPz4XQTh1v84CORJBNun7Rj7pI0F49jFMWhgcQdp21BMWMBhBKE9J0CNTJEGWjowr1bgmQd81d4UXASJBfYJ43q6lHkGGzQYDuf4gQQ5SjSHUiCVBZKAZyRVtI0EtgkwpgXslQUYB3Ws9qxhBqoXNIx9EIkFywt/xphQhQUPwhNB9cBRBsjL2so5gFkHiYa5+H5wTQTuR5MnLRxhB66fHf6HAFkEACedOb9AoQVqkb/m3thpBwKr6BsdgJEGa9ZZh1WojQbyeBRoeHR1BbnYlUg1NH0Eyo0w6BoohQW2ipfeI4RdBl6LQlizpG0FEI9idPScbQU9TmtXm5RZBqMuAbcuZHEHafa5QsDcaQcciTN4AbhxBYTKHQAuGKUEmC8AG73QWQcR9Nn+lYhJBFG0S/dFNHkGy9cPNe7UaQRriV8WUOBNBdTipqWGnIkFpsg5LB7kgQYODUHmx4CFB3eAZpHWNIUG9Jkt4bJYfQdgWibsm7hFBzrXBXOdXH0GhiaHDb5UeQWa6GIWDzhpBp714syvPEkFjI7U0U7MWQdrFiYZxMR9B53mLWc4EIEF2TRbzOnUgQXGqZZWLyRhBRQWvmgd9F0EQahHOllodQY5YNeaojSlBlQ0SYPlFEUEpKBh3JPUZQcm4eBFewCNBcnyTa1yuKEGq37oZEZwlQYdtB0R/5hhB2i74u1xUFEHdQjhCM3UaQS+aQfp9rBdBvs9l11MTJ0HFrrM7o14SQdxiT5fDWBhBNLwKygASJkGKd++BYJEcQbxAFvbenBNBW7PPv46ZG0EHc06dNq4eQeAI/HflTSJBCFaJJk6eFUESCxDc4BUuQUV/CHKQUR1BQF1QoojJHEG1cQ7zqPoeQS1kFpRXAiZBlGbA/3BEHkFbJ7cz5iAjQSIQI2SeqiFB1zzFf0kCGUE4U7aAx3siQW7QzWTTqiBBb5B+D2W1JEGG2lTdyk8YQZek70UgGRpBYni8sqEaJEF9CDtJZW0MQQoYOYWV+hVBOs7VVSIpFEFaFQxJ2nYeQXgDy98D1RJBDgd15wWdIUF+7mF02KogQVPdfCcZKhhBkvV8YAf2JkESIeYHaykcQUFYrhVrJhlBEnV3w4ppEkEQ7IyrH5MZQW3gD5YMtBRBe+dvRZB1E0FRjjqP73UjQQnSlWPLYx1BzqUz3tP2IkGe+FU2j9wdQcEvFHaUvSdBxtWYnVcuI0H/yWJbcPEYQY7mI1gNwxZBsn+nFf1tFUF96cKuGPQnQc+m4goioxlB6Lb9HHeQGUGobuZvOuweQYayctKOPRJBW7bdF3YFHkGd6OFGT2YdQTQnQhMbHhhB5OWW9cS/GUFJ093g85IbQW/JCnXHkSVBTggD7biVH0H9RHazRxkSQfER7sLoSCFB/UxOfT5VJUGGJklHPdMiQY3Cwcfy8RlBI7M+NxyiF0H42DW5wKcaQZN2or4F0htB+7U3lWHhJUEDvpGhoB8UQTeWwlzNLBlB3+LjDkCnIUG0NWnOg0IYQRtuiJ0VtRFBuV0Tw9YJIUGvcgg8bBohQfujvKjAXh9BUCQkhCemGUFrEnYKG7YlQbWbSXn/GCBBykf+wYOTIkFMvX3HW3EYQWwUXkBqWR9BIWFVRceWJEEZjReA6lURQWCfD2q7tRFB3sj995g1G0Hn91eB0sAQQegP1Pk5dB1BBRhLV2pKFUGKMPZn73ccQYtj175OexRBGjFyLXkBIkHYp0OOEgYaQXhwKhWi/SdB/Idn/tCBFkEfil7nXLocQa5hoXrtHyNBQ3RjDSfEFkFvP+CMupwVQYdxV8FX+BRBoNiu70DPIEH+jwbmKeAZQV/DtR5LdiNB5w9RAfHII0GUCvEsXu0RQY19C07IFyJBZzA+Pau1HEGlEA/oo8YZQVJf0eBmnyJBkIcmoMTFGEEaMHNJsPYXQZ3/n+coPRVBrB7PBY5LGkHE2PodbikWQUudGwLzfSNB0cMvBurOJEF6o8PBau4oQQ7qIqoBfRhBpFZnnGurEEGR7sDF+2kYQWT+KJZPwxlBt7LSKbK3FUFKPrzAqnARQWCAqBGYMyJBuXvDfcXRHkG8Qeit9kgiQZpbjnsB1CZBpCqJttWNIUHL79O8zl4rQUlRTlpL5RtBnV7DzGVcIkGopTYPJhkhQVNkFci0midBKdhapWukGkHvhyi9iLscQSZ0AjizKhxBbZ/kDEmAGUFKyP4MoP0TQfFKugMWfRhBX1zAYg/OEUGXREQ5EJcSQUoMTy3zjxtBBVUP+ft0IEH1SFIXr/kgQcjDWGCu0BFBY8HmexYvJUHlPKeodq0dQcLPuD5I9xVBzVOHPJKTH0G/m6FTvwAhQYXt3vQxkRhB4nhBoytiFkFOHThAK/AUQdEaAx2ooB9BJMSfexjaKUGbcN3NZegYQYde/1NlpRlBgDY41xXUIUFtZQOqRKQZQYMcdShi9RlBp3mrzWN9F0Ed30CL8vYkQUCES7iOgR1B6WAj0UfhE0FeNGgJBfIXQfubxz6sTRhB6RaCveHAEkGRDA8psu0sQWsbBCjY9RZBw3EF4/e3FkHoORinvAUgQbg+uvZFWxxBlSTUBgD/GkG90cJVm4MXQTwpiKEMHRtBTjry174tGUFSQAINB5YfQVzerku23hJBwXClbOK6HUGc4hG1dXUgQcOgHW4/iCBB02QMmA+jFkGZtcS5rtQhQRJbGYpKQCFBIY8P4xPbE0Eav2KLZoMhQSuXCBlLgiVBgvPJK4nsIUF6Kl//b5weQY2A6vu9iRdBq3MOhmpvIUHMcpRTRqQfQVNXIWm0ahpBhviXo5pyF0FvwCrb/bIgQYyPSlBAmSZBni5ugxqDG0HQPrC2a74jQXHsO/L4DBpBhNpTg5cTIUGThtnJKOwWQQc77TMR/RhB/6xSZKDzH0FTqTPNRlIWQeZx2fvARRtBU0AQy6CJEUH/YFQEdxEjQTCfuLbJUBdBBRl/dXMNIkFBBFwALCoSQRhZxw1LpiFBuGGh/3G+JEGSq+0aDAMgQfYBwbl09BhBJoqm/hPAIEE+1gkKoPMWQY89AnDs5CJB5rZFlCaBHUGm9yLsfF4hQaXtxv02+hpBHuRl/bujIkFXGNCE8MUgQWA0XiGZSSdB3bZJCZC5FUE/4wZalBMVQWag9PZNFRxBtq9NtuCtJkGgYjcS5wEeQaE3xydysCRBir+YNLAyFkGXrGI2nlEkQfvvNaDaNRdBqC+WxCjdJkG4x3Mo8FkhQUjx5sFQQxdBluA+nf1yIEGSWAgT2GwgQWS5c9MWOSBBxHYa3axLG0HLG3xRPIAgQXm6/qxTIBxBz0vT9iLMEkHHX0SNK2ghQcyYjV1HqBlBt8PWtKlxIEF7nKIWcdshQZxjKJ9xKSJBtToX8dICH0G3Cix3sq8jQfYsadQOqCFBtbuaJP/oE0Fe4PxxgF0RQakpzAmEhBFBpWcVSlG0GUHmAQLkxLcbQeq8Po3JNhhB4UYcHx9gG0FyZETtTOIjQTWnbr6WMCJBsSWGfXjYGEH8xm+rE5kTQQUiREUoYxlBbvTOWgJkHUGsPCB5KA4gQTSOQKSgQxZBAKv5cvxwHEH1WAQ/ixMoQXb4ZEmDqyRBw4Sv2JzaKkGp8hvAKzohQW2EMEopRB1Bthdm9F5WHkHAbMDAY+4jQes//cnczRhBZpgK9bTNHEEak+DGDYEgQQ==",
          "dtype": "f8"
         },
         "xaxis": "x",
         "y": {
          "bdata": "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",
          "dtype": "f8"
         },
         "yaxis": "y"
        }
       ],
       "layout": {
        "legend": {
         "tracegroupgap": 0
        },
        "margin": {
         "t": 60
        },
        "template": {
         "data": {
          "bar": [
           {
            "error_x": {
             "color": "#2a3f5f"
            },
            "error_y": {
             "color": "#2a3f5f"
            },
            "marker": {
             "line": {
              "color": "#E5ECF6",
              "width": 0.5
             },
             "pattern": {
              "fillmode": "overlay",
              "size": 10,
              "solidity": 0.2
             }
            },
            "type": "bar"
           }
          ],
          "barpolar": [
           {
            "marker": {
             "line": {
              "color": "#E5ECF6",
              "width": 0.5
             },
             "pattern": {
              "fillmode": "overlay",
              "size": 10,
              "solidity": 0.2
             }
            },
            "type": "barpolar"
           }
          ],
          "carpet": [
           {
            "aaxis": {
             "endlinecolor": "#2a3f5f",
             "gridcolor": "white",
             "linecolor": "white",
             "minorgridcolor": "white",
             "startlinecolor": "#2a3f5f"
            },
            "baxis": {
             "endlinecolor": "#2a3f5f",
             "gridcolor": "white",
             "linecolor": "white",
             "minorgridcolor": "white",
             "startlinecolor": "#2a3f5f"
            },
            "type": "carpet"
           }
          ],
          "choropleth": [
           {
            "colorbar": {
             "outlinewidth": 0,
             "ticks": ""
            },
            "type": "choropleth"
           }
          ],
          "contour": [
           {
            "colorbar": {
             "outlinewidth": 0,
             "ticks": ""
            },
            "colorscale": [
             [
              0,
              "#0d0887"
             ],
             [
              0.1111111111111111,
              "#46039f"
             ],
             [
              0.2222222222222222,
              "#7201a8"
             ],
             [
              0.3333333333333333,
              "#9c179e"
             ],
             [
              0.4444444444444444,
              "#bd3786"
             ],
             [
              0.5555555555555556,
              "#d8576b"
             ],
             [
              0.6666666666666666,
              "#ed7953"
             ],
             [
              0.7777777777777778,
              "#fb9f3a"
             ],
             [
              0.8888888888888888,
              "#fdca26"
             ],
             [
              1,
              "#f0f921"
             ]
            ],
            "type": "contour"
           }
          ],
          "contourcarpet": [
           {
            "colorbar": {
             "outlinewidth": 0,
             "ticks": ""
            },
            "type": "contourcarpet"
           }
          ],
          "heatmap": [
           {
            "colorbar": {
             "outlinewidth": 0,
             "ticks": ""
            },
            "colorscale": [
             [
              0,
              "#0d0887"
             ],
             [
              0.1111111111111111,
              "#46039f"
             ],
             [
              0.2222222222222222,
              "#7201a8"
             ],
             [
              0.3333333333333333,
              "#9c179e"
             ],
             [
              0.4444444444444444,
              "#bd3786"
             ],
             [
              0.5555555555555556,
              "#d8576b"
             ],
             [
              0.6666666666666666,
              "#ed7953"
             ],
             [
              0.7777777777777778,
              "#fb9f3a"
             ],
             [
              0.8888888888888888,
              "#fdca26"
             ],
             [
              1,
              "#f0f921"
             ]
            ],
            "type": "heatmap"
           }
          ],
          "histogram": [
           {
            "marker": {
             "pattern": {
              "fillmode": "overlay",
              "size": 10,
              "solidity": 0.2
             }
            },
            "type": "histogram"
           }
          ],
          "histogram2d": [
           {
            "colorbar": {
             "outlinewidth": 0,
             "ticks": ""
            },
            "colorscale": [
             [
              0,
              "#0d0887"
             ],
             [
              0.1111111111111111,
              "#46039f"
             ],
             [
              0.2222222222222222,
              "#7201a8"
             ],
             [
              0.3333333333333333,
              "#9c179e"
             ],
             [
              0.4444444444444444,
              "#bd3786"
             ],
             [
              0.5555555555555556,
              "#d8576b"
             ],
             [
              0.6666666666666666,
              "#ed7953"
             ],
             [
              0.7777777777777778,
              "#fb9f3a"
             ],
             [
              0.8888888888888888,
              "#fdca26"
             ],
             [
              1,
              "#f0f921"
             ]
            ],
            "type": "histogram2d"
           }
          ],
          "histogram2dcontour": [
           {
            "colorbar": {
             "outlinewidth": 0,
             "ticks": ""
            },
            "colorscale": [
             [
              0,
              "#0d0887"
             ],
             [
              0.1111111111111111,
              "#46039f"
             ],
             [
              0.2222222222222222,
              "#7201a8"
             ],
             [
              0.3333333333333333,
              "#9c179e"
             ],
             [
              0.4444444444444444,
              "#bd3786"
             ],
             [
              0.5555555555555556,
              "#d8576b"
             ],
             [
              0.6666666666666666,
              "#ed7953"
             ],
             [
              0.7777777777777778,
              "#fb9f3a"
             ],
             [
              0.8888888888888888,
              "#fdca26"
             ],
             [
              1,
              "#f0f921"
             ]
            ],
            "type": "histogram2dcontour"
           }
          ],
          "mesh3d": [
           {
            "colorbar": {
             "outlinewidth": 0,
             "ticks": ""
            },
            "type": "mesh3d"
           }
          ],
          "parcoords": [
           {
            "line": {
             "colorbar": {
              "outlinewidth": 0,
              "ticks": ""
             }
            },
            "type": "parcoords"
           }
          ],
          "pie": [
           {
            "automargin": true,
            "type": "pie"
           }
          ],
          "scatter": [
           {
            "fillpattern": {
             "fillmode": "overlay",
             "size": 10,
             "solidity": 0.2
            },
            "type": "scatter"
           }
          ],
          "scatter3d": [
           {
            "line": {
             "colorbar": {
              "outlinewidth": 0,
              "ticks": ""
             }
            },
            "marker": {
             "colorbar": {
              "outlinewidth": 0,
              "ticks": ""
             }
            },
            "type": "scatter3d"
           }
          ],
          "scattercarpet": [
           {
            "marker": {
             "colorbar": {
              "outlinewidth": 0,
              "ticks": ""
             }
            },
            "type": "scattercarpet"
           }
          ],
          "scattergeo": [
           {
            "marker": {
             "colorbar": {
              "outlinewidth": 0,
              "ticks": ""
             }
            },
            "type": "scattergeo"
           }
          ],
          "scattergl": [
           {
            "marker": {
             "colorbar": {
              "outlinewidth": 0,
              "ticks": ""
             }
            },
            "type": "scattergl"
           }
          ],
          "scattermap": [
           {
            "marker": {
             "colorbar": {
              "outlinewidth": 0,
              "ticks": ""
             }
            },
            "type": "scattermap"
           }
          ],
          "scattermapbox": [
           {
            "marker": {
             "colorbar": {
              "outlinewidth": 0,
              "ticks": ""
             }
            },
            "type": "scattermapbox"
           }
          ],
          "scatterpolar": [
           {
            "marker": {
             "colorbar": {
              "outlinewidth": 0,
              "ticks": ""
             }
            },
            "type": "scatterpolar"
           }
          ],
          "scatterpolargl": [
           {
            "marker": {
             "colorbar": {
              "outlinewidth": 0,
              "ticks": ""
             }
            },
            "type": "scatterpolargl"
           }
          ],
          "scatterternary": [
           {
            "marker": {
             "colorbar": {
              "outlinewidth": 0,
              "ticks": ""
             }
            },
            "type": "scatterternary"
           }
          ],
          "surface": [
           {
            "colorbar": {
             "outlinewidth": 0,
             "ticks": ""
            },
            "colorscale": [
             [
              0,
              "#0d0887"
             ],
             [
              0.1111111111111111,
              "#46039f"
             ],
             [
              0.2222222222222222,
              "#7201a8"
             ],
             [
              0.3333333333333333,
              "#9c179e"
             ],
             [
              0.4444444444444444,
              "#bd3786"
             ],
             [
              0.5555555555555556,
              "#d8576b"
             ],
             [
              0.6666666666666666,
              "#ed7953"
             ],
             [
              0.7777777777777778,
              "#fb9f3a"
             ],
             [
              0.8888888888888888,
              "#fdca26"
             ],
             [
              1,
              "#f0f921"
             ]
            ],
            "type": "surface"
           }
          ],
          "table": [
           {
            "cells": {
             "fill": {
              "color": "#EBF0F8"
             },
             "line": {
              "color": "white"
             }
            },
            "header": {
             "fill": {
              "color": "#C8D4E3"
             },
             "line": {
              "color": "white"
             }
            },
            "type": "table"
           }
          ]
         },
         "layout": {
          "annotationdefaults": {
           "arrowcolor": "#2a3f5f",
           "arrowhead": 0,
           "arrowwidth": 1
          },
          "autotypenumbers": "strict",
          "coloraxis": {
           "colorbar": {
            "outlinewidth": 0,
            "ticks": ""
           }
          },
          "colorscale": {
           "diverging": [
            [
             0,
             "#8e0152"
            ],
            [
             0.1,
             "#c51b7d"
            ],
            [
             0.2,
             "#de77ae"
            ],
            [
             0.3,
             "#f1b6da"
            ],
            [
             0.4,
             "#fde0ef"
            ],
            [
             0.5,
             "#f7f7f7"
            ],
            [
             0.6,
             "#e6f5d0"
            ],
            [
             0.7,
             "#b8e186"
            ],
            [
             0.8,
             "#7fbc41"
            ],
            [
             0.9,
             "#4d9221"
            ],
            [
             1,
             "#276419"
            ]
           ],
           "sequential": [
            [
             0,
             "#0d0887"
            ],
            [
             0.1111111111111111,
             "#46039f"
            ],
            [
             0.2222222222222222,
             "#7201a8"
            ],
            [
             0.3333333333333333,
             "#9c179e"
            ],
            [
             0.4444444444444444,
             "#bd3786"
            ],
            [
             0.5555555555555556,
             "#d8576b"
            ],
            [
             0.6666666666666666,
             "#ed7953"
            ],
            [
             0.7777777777777778,
             "#fb9f3a"
            ],
            [
             0.8888888888888888,
             "#fdca26"
            ],
            [
             1,
             "#f0f921"
            ]
           ],
           "sequentialminus": [
            [
             0,
             "#0d0887"
            ],
            [
             0.1111111111111111,
             "#46039f"
            ],
            [
             0.2222222222222222,
             "#7201a8"
            ],
            [
             0.3333333333333333,
             "#9c179e"
            ],
            [
             0.4444444444444444,
             "#bd3786"
            ],
            [
             0.5555555555555556,
             "#d8576b"
            ],
            [
             0.6666666666666666,
             "#ed7953"
            ],
            [
             0.7777777777777778,
             "#fb9f3a"
            ],
            [
             0.8888888888888888,
             "#fdca26"
            ],
            [
             1,
             "#f0f921"
            ]
           ]
          },
          "colorway": [
           "#636efa",
           "#EF553B",
           "#00cc96",
           "#ab63fa",
           "#FFA15A",
           "#19d3f3",
           "#FF6692",
           "#B6E880",
           "#FF97FF",
           "#FECB52"
          ],
          "font": {
           "color": "#2a3f5f"
          },
          "geo": {
           "bgcolor": "white",
           "lakecolor": "white",
           "landcolor": "#E5ECF6",
           "showlakes": true,
           "showland": true,
           "subunitcolor": "white"
          },
          "hoverlabel": {
           "align": "left"
          },
          "hovermode": "closest",
          "mapbox": {
           "style": "light"
          },
          "paper_bgcolor": "white",
          "plot_bgcolor": "#E5ECF6",
          "polar": {
           "angularaxis": {
            "gridcolor": "white",
            "linecolor": "white",
            "ticks": ""
           },
           "bgcolor": "#E5ECF6",
           "radialaxis": {
            "gridcolor": "white",
            "linecolor": "white",
            "ticks": ""
           }
          },
          "scene": {
           "xaxis": {
            "backgroundcolor": "#E5ECF6",
            "gridcolor": "white",
            "gridwidth": 2,
            "linecolor": "white",
            "showbackground": true,
            "ticks": "",
            "zerolinecolor": "white"
           },
           "yaxis": {
            "backgroundcolor": "#E5ECF6",
            "gridcolor": "white",
            "gridwidth": 2,
            "linecolor": "white",
            "showbackground": true,
            "ticks": "",
            "zerolinecolor": "white"
           },
           "zaxis": {
            "backgroundcolor": "#E5ECF6",
            "gridcolor": "white",
            "gridwidth": 2,
            "linecolor": "white",
            "showbackground": true,
            "ticks": "",
            "zerolinecolor": "white"
           }
          },
          "shapedefaults": {
           "line": {
            "color": "#2a3f5f"
           }
          },
          "ternary": {
           "aaxis": {
            "gridcolor": "white",
            "linecolor": "white",
            "ticks": ""
           },
           "baxis": {
            "gridcolor": "white",
            "linecolor": "white",
            "ticks": ""
           },
           "bgcolor": "#E5ECF6",
           "caxis": {
            "gridcolor": "white",
            "linecolor": "white",
            "ticks": ""
           }
          },
          "title": {
           "x": 0.05
          },
          "xaxis": {
           "automargin": true,
           "gridcolor": "white",
           "linecolor": "white",
           "ticks": "",
           "title": {
            "standoff": 15
           },
           "zerolinecolor": "white",
           "zerolinewidth": 2
          },
          "yaxis": {
           "automargin": true,
           "gridcolor": "white",
           "linecolor": "white",
           "ticks": "",
           "title": {
            "standoff": 15
           },
           "zerolinecolor": "white",
           "zerolinewidth": 2
          }
         }
        },
        "xaxis": {
         "anchor": "y",
         "domain": [
          0,
          1
         ],
         "title": {
          "text": "Predictions"
         }
        },
        "yaxis": {
         "anchor": "x",
         "domain": [
          0,
          1
         ],
         "title": {
          "text": "residuals"
         }
        }
       }
      }
     },
     "metadata": {},
     "output_type": "display_data"
    }
   ],
   "source": [
    "fitted_residuals_plot(model, X_train_sm, y_train)"
   ]
  },
  {
   "cell_type": "markdown",
   "metadata": {},
   "source": [
    "#### Testing if Expected Error is 0"
   ]
  },
  {
   "cell_type": "code",
   "execution_count": 48,
   "metadata": {},
   "outputs": [
    {
     "data": {
      "text/plain": [
       "np.float64(1.2009792400222197e-08)"
      ]
     },
     "execution_count": 48,
     "metadata": {},
     "output_type": "execute_result"
    }
   ],
   "source": [
    "# seems to be 0\n",
    "np.mean(model.resid)"
   ]
  },
  {
   "cell_type": "code",
   "execution_count": 49,
   "metadata": {},
   "outputs": [
    {
     "data": {
      "text/plain": [
       "<seaborn.axisgrid.FacetGrid at 0x19f998e3100>"
      ]
     },
     "execution_count": 49,
     "metadata": {},
     "output_type": "execute_result"
    },
    {
     "data": {
      "image/png": "[encoded data removed]",
      "text/plain": [
       "<Figure size 500x500 with 1 Axes>"
      ]
     },
     "metadata": {},
     "output_type": "display_data"
    }
   ],
   "source": [
    "import seaborn as sns\n",
    "sns.displot(model.resid)"
   ]
  },
  {
   "cell_type": "code",
   "execution_count": null,
   "metadata": {},
   "outputs": [],
   "source": []
  }
 ],
 "metadata": {
  "kernelspec": {
   "display_name": ".venv",
   "language": "python",
   "name": "python3"
  },
  "language_info": {
   "codemirror_mode": {
    "name": "ipython",
    "version": 3
   },
   "file_extension": ".py",
   "mimetype": "text/x-python",
   "name": "python",
   "nbconvert_exporter": "python",
   "pygments_lexer": "ipython3",
   "version": "3.10.9"
  }
 },
 "nbformat": 4,
 "nbformat_minor": 2
}
